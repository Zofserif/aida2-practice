{
  "cells": [
    {
      "cell_type": "markdown",
      "metadata": {
        "id": "Q3Ki7Eix6HfL"
      },
      "source": [
        "# Topic 4 Lab 2: Multiple Linear Regression\n",
        "$_{\\text{©D.J. Lopez | 2021 | Fundamentals of Machine Learning}}$"
      ]
    },
    {
      "cell_type": "markdown",
      "metadata": {
        "id": "0cApvlgu6RXq"
      },
      "source": [
        "# Part 1\n",
        "Create a class named `MultipleLinearRegression()` wherein it can compute for the linear regression for multiple variables. The class will be required to have the following helper methods:\n",
        "> 1. `correlations(X, y)`\n",
        ">> input: 2 Rank 2 matrices\n",
        ">>\n",
        ">> output: A vector that contains the covariances of each feature to the target. \n",
        "> 3. `train(X, y)`\n",
        ">> input: 2 Rank 2 matrices\n",
        ">>\n",
        ">> output: the weights of the linear regressor. Use least squares method for this part. If the training fails due to the singularity of the matrix, raise a custom error pertaining to autocorrelation.\n",
        "> 4. `predict(x)`\n",
        ">> input: A testing vector. *Note*: this function should only accept vectors.\n",
        ">>\n",
        ">> output: the predicted value. Note: the procedure in solving for the predicted value should be vectorized. Use the concept of matrix multiplication. Do not forget to pad the matrix for the bias term.\n",
        "> 5. `evaluate()`\n",
        ">> input: *none*\n",
        ">>\n",
        ">> output: a `DataFrame` that displays the SST, SSR, SSE, MSE, RMSE, R-squared, and the Adjusted R-squared. Note: You should use the `predict()` method here.\n",
        "> 5. `visualize(testX, testY)`\n",
        ">> input: the dataset training sets and their ground truths.\n",
        ">>\n",
        ">> output: a visualization of the linear regressor over the testing dataset. It should be saved as a .jpg file into the running notebook with a dpi of 400."
      ]
    },
    {
      "cell_type": "code",
      "execution_count": 2,
      "metadata": {
        "id": "0UUrD4zJ6EVj"
      },
      "outputs": [],
      "source": [
        "import numpy as np\n",
        "import matplotlib.pyplot as plt\n",
        "import pandas as pd\n",
        "## No other packages or libraries can be added in this cell\n",
        "\n",
        "## Adding dataset\n",
        "rlEstate_pd = pd.read_csv('datasets/real_estate_price_size_year.csv')"
      ]
    },
    {
      "cell_type": "code",
      "execution_count": 49,
      "metadata": {
        "id": "6WzxCuxQ-xqb"
      },
      "outputs": [],
      "source": [
        "### YOUR CODE HERE\n",
        "class MultipleLinearRegression:\n",
        "\n",
        "  # def __init__(self,X=0,y=0):\n",
        "  #   self.X = X\n",
        "  #   self.y = y\n",
        "  \n",
        "  def correlations(self,X,y):\n",
        "    R = []\n",
        "    ## Finding the mean of X and y\n",
        "    x_bar = X.mean()\n",
        "    x1_bar = X.iloc[:,0].mean()\n",
        "    x2_bar = X.iloc[:,1].mean()\n",
        "    y_bar = y.mean()\n",
        "\n",
        "    ## get the difference for each data point from their means\n",
        "    sst_x1 = X.iloc[:,0]-x1_bar\n",
        "    sst_x2 = X.iloc[:,1]-x2_bar\n",
        "    sst_y = y-y_bar\n",
        "\n",
        "    ## Finding the covariance of X and y\n",
        "    cov_x1y = np.cov(X.iloc[:,0],y, bias=True)[0,1]\n",
        "    cov_x2y = np.cov(X.iloc[:,1],y, bias=True)[0,1]\n",
        "\n",
        "    ## Finding the standard deviation of X and y\n",
        "    std_X1 = np.std(X.iloc[:,0])\n",
        "    std_X2 = np.std(X.iloc[:,1])\n",
        "    std_y = np.std(y)\n",
        "\n",
        "    ## Finding the correlation\n",
        "    R.append(round((cov_x2y /(std_X2*std_y)),2))\n",
        "    R.append(round((cov_x1y /(std_X1*std_y)),2))\n",
        "    return R\n",
        "\n",
        "  def train(self,X_train,y_train):\n",
        "    \n",
        "\n",
        "  ### Program the required methods\n",
        "\n",
        "  ### You may add other helper functions in to make your code cleaner"
      ]
    },
    {
      "cell_type": "code",
      "execution_count": 53,
      "metadata": {
        "id": "7RB4i8MI96Ys"
      },
      "outputs": [],
      "source": [
        "### Testing Data\n",
        "### DO NOT DELETE NOR MODIFY THIS CELL\n",
        "### Data can be retrieved from the git repo\n",
        "X = pd.read_csv(\"datasets/real_estate_price_size_year.csv\") \n",
        "y = X['price']\n",
        "X = X.drop('price', axis=1)\n",
        "X_train, X_test = X.iloc[0:95], X.iloc[95:]\n",
        "y_train, y_test = y.iloc[0:95], y.iloc[95:]"
      ]
    },
    {
      "cell_type": "code",
      "execution_count": 50,
      "metadata": {
        "id": "zGY61WiZ-Ze5"
      },
      "outputs": [],
      "source": [
        "## TEST #1 (Max pts: 5)\n",
        "## DO NOT DELETE NOR MODIFY THIS CELL\n",
        "regressor = MultipleLinearRegression()"
      ]
    },
    {
      "cell_type": "code",
      "execution_count": 51,
      "metadata": {
        "id": "IKuHQIceA2D0"
      },
      "outputs": [
        {
          "data": {
            "text/plain": [
              "[0.09, 0.86]"
            ]
          },
          "execution_count": 51,
          "metadata": {},
          "output_type": "execute_result"
        }
      ],
      "source": [
        "## TEST #2 (Max pts: 10)\n",
        "## DO NOT DELETE NOR MODIFY THIS CELL\n",
        "R = regressor.correlations(X,y)\n",
        "R\n"
      ]
    },
    {
      "cell_type": "markdown",
      "metadata": {
        "id": "iKPsTkB3BQuj"
      },
      "source": [
        "Expected output value:\n",
        "$$R = \\begin{bmatrix}0.09 & 0.86\\end{bmatrix}$$"
      ]
    },
    {
      "cell_type": "code",
      "execution_count": 69,
      "metadata": {
        "id": "FlWF-AQEBnwL"
      },
      "outputs": [
        {
          "data": {
            "text/plain": [
              "array([ 643.09,  656.22,  487.29, 1504.75, 1275.46,  575.19,  570.89,\n",
              "        620.82,  682.26,  694.52, 1060.36, 1842.51,  694.52, 1009.25,\n",
              "       1300.96, 1379.72,  690.54,  623.94,  681.07, 1027.76,  620.71,\n",
              "        549.69, 1207.45,  518.38,  525.81, 1103.3 ,  570.89, 1334.1 ,\n",
              "        681.07, 1496.36, 1010.33,  681.07,  597.9 ,  525.81,  857.54,\n",
              "        622.97,  823.21,  570.25,  685.48,  698.29, 1021.95,  682.26,\n",
              "        823.21, 1334.1 , 1060.36,  698.29,  633.19,  698.29,  633.19,\n",
              "        617.05,  647.5 , 1021.95, 1021.95,  727.88,  647.5 , 1508.84,\n",
              "       1032.06, 1283.85,  827.84,  569.17,  828.16,  698.5 , 1205.62,\n",
              "       1021.95,  685.48,  827.09, 1009.25,  549.8 ,  685.48, 1496.36,\n",
              "       1021.95,  643.41,  656.22,  549.8 ,  685.48,  685.48, 1183.46,\n",
              "       1334.1 ,  682.26, 1188.62,  681.07, 1122.34,  681.07,  643.09,\n",
              "        685.48, 1009.25,  479.75, 1028.41,  601.66, 1236.93,  694.52,\n",
              "       1071.55,  694.52,  698.29,  698.29])"
            ]
          },
          "execution_count": 69,
          "metadata": {},
          "output_type": "execute_result"
        }
      ],
      "source": [
        "## TEST #3 (Max pts: 15)\n",
        "## DO NOT DELETE NOR MODIFY THIS CELL\n",
        "def train(X,y):\n",
        "  X_train = X.T\n",
        "  pseudoinv = np.linalg.inv(X_train.T @ X_train)\n",
        "  y_dot = X @ y\n",
        "  theta = pseudoinv @ y_dot\n",
        "  return theta\n",
        "\n",
        "# train(X_train.iloc[:,0].to_numpy(),y_train.to_numpy())\n",
        "\n",
        "# regressor.train(X_train,y_train)\n",
        "# regressor.model_\n",
        "\n",
        "X_train.iloc[:,0].to_numpy()"
      ]
    },
    {
      "cell_type": "markdown",
      "metadata": {
        "id": "Jpl2Cz9SB6fz"
      },
      "source": [
        "Expected output value:\n",
        "$$\\omega = \\begin{bmatrix}\\omega_1 \\\\ \\omega_2 \\\\ \\omega_0\\end{bmatrix} = \\begin{bmatrix}232.56\\\\ 3010.09 \\\\ -5964175.03\\end{bmatrix}$$"
      ]
    },
    {
      "cell_type": "code",
      "execution_count": null,
      "metadata": {
        "id": "k9Q8e7JXC9U7"
      },
      "outputs": [],
      "source": [
        "## TEST #4 (Max pts: 35)\n",
        "## DO NOT DELETE NOR MODIFY THIS CELL\n",
        "preds = regressor.predict(X_test)\n",
        "preds"
      ]
    },
    {
      "cell_type": "markdown",
      "metadata": {
        "id": "BdpaVDV3DBzr"
      },
      "source": [
        "Expected output value:\n",
        "$$\\hat{y}_i = \\begin{bmatrix} 210962.87 \\\\ 324367.17 \\\\ 424013.31 \\\\ 251928.01 \\\\ 238092.94 \\end{bmatrix}, i = \\{0,1,2,3,4\\}$$"
      ]
    },
    {
      "cell_type": "code",
      "execution_count": null,
      "metadata": {
        "id": "FUJuLe9pDArc"
      },
      "outputs": [],
      "source": [
        "# TEST #5 (Max pts: 25)\n",
        "## DO NOT DELETE NOR MODIFY THIS CELL\n",
        "model_stats = regressor.evaluate()\n",
        "model_stats"
      ]
    },
    {
      "cell_type": "code",
      "execution_count": null,
      "metadata": {
        "id": "J7XW0jArDrQs"
      },
      "outputs": [],
      "source": [
        "## TEST #6 (Max pts: 15)\n",
        "## DO NOT DELETE NOR MODIFY THIS CELL\n",
        "regressor.visualize(X_test, y_test)"
      ]
    },
    {
      "cell_type": "markdown",
      "metadata": {
        "id": "uJ7XQVSdfEYb"
      },
      "source": [
        "# Part 2\n",
        "## 2.1 Lecture Requirement\n",
        "\n",
        "Obtain a dataset of your liking from a data source. Explain the purpose of the dataset and mention any publication if it is obtained from the source. Provide a needs statement and significance for the dataset.\n",
        "\n"
      ]
    },
    {
      "cell_type": "markdown",
      "metadata": {
        "id": "2Z2NxvcNfgL0"
      },
      "source": [
        "## 2.2 Lab Requirement\n",
        "\n",
        "Perform data exploration, data cleaning, and data visualization. The dataset should contain targets either for regression or classification. Provide the correlation and measures of error and variability of the dataset."
      ]
    },
    {
      "cell_type": "markdown",
      "metadata": {
        "id": "OFZwrRcKfhnh"
      },
      "source": [
        "# Part 3\n",
        "## 3.1 Lecture Requirement\n",
        "\n",
        "Identify an algorithm or method in performing a machine learning activity with the dataset you have chosen. Mention any papers, publications, or white papers about the properties, use, and theory behind the method. Provide an explanation of equations representing the algorithm.\n",
        "\n"
      ]
    },
    {
      "cell_type": "markdown",
      "metadata": {
        "id": "cB2qaPqtfyaC"
      },
      "source": [
        "## 3.2 Lab Requirement\n",
        "\n",
        "Present your solution implementing your algorithm of choice. You may use any library or package in this section. However, you are required to observe the following:\n",
        "\n",
        "* Enforce object-oriented programming by implementing at least two of the pillars of OOP in the entirety of the solution.\n",
        "* Dedicated functions for training, predicting, and evaluating the solution.\n",
        "* A DataFrame of the metrics of the solution\n",
        "* A visualization of the solution’s results."
      ]
    }
  ],
  "metadata": {
    "colab": {
      "name": "fund_aiml_04v1_lab2_2021.ipynb",
      "provenance": []
    },
    "kernelspec": {
      "display_name": "Python 3.9.12 ('base')",
      "language": "python",
      "name": "python3"
    },
    "language_info": {
      "codemirror_mode": {
        "name": "ipython",
        "version": 3
      },
      "file_extension": ".py",
      "mimetype": "text/x-python",
      "name": "python",
      "nbconvert_exporter": "python",
      "pygments_lexer": "ipython3",
      "version": "3.9.12"
    },
    "vscode": {
      "interpreter": {
        "hash": "f28f51b819213f93b610c120b8c68e9f39a02ecaacc6262c7bf377e51dc8effa"
      }
    }
  },
  "nbformat": 4,
  "nbformat_minor": 0
}
