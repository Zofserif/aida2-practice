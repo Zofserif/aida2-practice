{
  "cells": [
    {
      "cell_type": "markdown",
      "metadata": {
        "id": "Q3Ki7Eix6HfL"
      },
      "source": [
        "# Topic 4 Lab 2: Multiple Linear Regression\n",
        "$_{\\text{©D.J. Lopez | 2021 | Fundamentals of Machine Learning}}$\n",
        "\n",
        "#### Submitted by:\n",
        "<ul>\n",
        "    <li> Guy, Lawrence Adrian B. </li>\n",
        "    <li>Surio, Rovil M. Jr.</li>\n",
        "    <li>Sustento, Myke Alvin E.</li>\n",
        "    <li>Vallarta, Troy Joaquin G.</li>\n",
        "</ul>"
      ]
    },
    {
      "cell_type": "markdown",
      "metadata": {
        "id": "0cApvlgu6RXq"
      },
      "source": [
        "# Part 1\n",
        "Create a class named `MultipleLinearRegression()` wherein it can compute for the linear regression for multiple variables. The class will be required to have the following helper methods:\n",
        "> 1. `correlations(X, y)`\n",
        ">> input: 2 Rank 2 matrices\n",
        ">>\n",
        ">> output: A vector that contains the covariances of each feature to the target. \n",
        "> 3. `train(X, y)`\n",
        ">> input: 2 Rank 2 matrices\n",
        ">>\n",
        ">> output: the weights of the linear regressor. Use least squares method for this part. If the training fails due to the singularity of the matrix, raise a custom error pertaining to autocorrelation.\n",
        "> 4. `predict(x)`\n",
        ">> input: A testing vector. *Note*: this function should only accept vectors.\n",
        ">>\n",
        ">> output: the predicted value. Note: the procedure in solving for the predicted value should be vectorized. Use the concept of matrix multiplication. Do not forget to pad the matrix for the bias term.\n",
        "> 5. `evaluate()`\n",
        ">> input: *none*\n",
        ">>\n",
        ">> output: a `DataFrame` that displays the SST, SSR, SSE, MSE, RMSE, R-squared, and the Adjusted R-squared. Note: You should use the `predict()` method here.\n",
        "> 5. `visualize(testX, testY)`\n",
        ">> input: the dataset training sets and their ground truths.\n",
        ">>\n",
        ">> output: a visualization of the linear regressor over the testing dataset. It should be saved as a .jpg file into the running notebook with a dpi of 400."
      ]
    },
    {
      "cell_type": "code",
      "execution_count": 14,
      "metadata": {
        "id": "0UUrD4zJ6EVj"
      },
      "outputs": [],
      "source": [
        "import numpy as np\n",
        "import matplotlib.pyplot as plt\n",
        "import pandas as pd\n",
        "## No other packages or libraries can be added in this cell\n",
        "\n",
        "## Adding dataset\n",
        "rlEstate_pd = pd.read_csv('datasets/real_estate_price_size_year.csv')"
      ]
    },
    {
      "cell_type": "code",
      "execution_count": 15,
      "metadata": {
        "id": "6WzxCuxQ-xqb"
      },
      "outputs": [],
      "source": [
        "### YOUR CODE HERE\n",
        "class MultipleLinearRegression:\n",
        "\n",
        "  # def __init__(self,X=0,y=0):\n",
        "  #   self.X = X\n",
        "  #   self.y = y\n",
        "  \n",
        "  def correlations(self,X,y):\n",
        "    self.R = []\n",
        "    ## Finding the mean of X and y\n",
        "    x_bar = X.mean()\n",
        "    x1_bar = X.iloc[:,0].mean()\n",
        "    x2_bar = X.iloc[:,1].mean()\n",
        "    y_bar = y.mean()\n",
        "\n",
        "    ## get the difference for each data point from their means\n",
        "    sst_x1 = X.iloc[:,0]-x1_bar\n",
        "    sst_x2 = X.iloc[:,1]-x2_bar\n",
        "    sst_y = y-y_bar\n",
        "\n",
        "    ## Finding the covariance of X and y\n",
        "    cov_x1y = np.cov(X.iloc[:,0],y, bias=True)[0,1]\n",
        "    cov_x2y = np.cov(X.iloc[:,1],y, bias=True)[0,1]\n",
        "\n",
        "    ## Finding the standard deviation of X and y\n",
        "    std_X1 = np.std(X.iloc[:,0])\n",
        "    std_X2 = np.std(X.iloc[:,1])\n",
        "    std_y = np.std(y)\n",
        "\n",
        "    ## Finding the correlation\n",
        "    self.R.append(round((cov_x2y /(std_X2*std_y)),2))\n",
        "    self.R.append(round((cov_x1y /(std_X1*std_y)),2))\n",
        "    return self.R\n",
        "\n",
        "  def train(self, X,y):\n",
        "    X_T = np.c_[np.ones(len(X_train)), X_train]    \n",
        "    #error = np.linalg.norm(X_T.dot(theta) - y, ord=2)**2\n",
        "    self.theta = np.linalg.pinv(X_T.T.dot(X_T)).dot(X_T.T).dot(y_train).reshape(3,1)\n",
        "    self.model_ =(np.array([self.theta[-2],self.theta[-1],self.theta[0]]))\n",
        "\n",
        "  def predict(self, x):\n",
        "    self.y_hat = np.array(np.c_[np.ones((len(X_test), 1)), X_test])\n",
        "    i = np.arange(0,5)\n",
        "    self.preds = (np.dot(self.y_hat, self.theta)).round(2)\n",
        "    return self.preds,i\n",
        "\n",
        "  def evaluate(self):\n",
        "    y = y_train.values[:,np.newaxis] \n",
        "    y_hat = np.arange(5*5).reshape(5,5)\n",
        "    sst = np.sum(np.square(y)-(np.mean(y)))\n",
        "    ssr = np.sum(np.square(self.y_hat)-(np.mean(y)))\n",
        "    mse=np.mean(np.square(y_hat-y[0:5]))\n",
        "    rsme = (np.sqrt(np.mean(np.sum(np.square(self.y_hat)))))\n",
        "    r2 = (self.R**2)\n",
        "    ar2 = (1-((1-r2)*(len(y)-1)/(len(y)-len(X)-1)))\n",
        "    evaluate = {'SST': sst, 'SSR': ssr,'MSE': mse,'RSME': rsme,\n",
        "        'R-squared': r2,'Adjusted R-squared': ar2                      \n",
        "    }  \n",
        "    df = pd.DataFrame(evaluate)\n",
        "    return df\n",
        "\n",
        "  def visualize(self,testX, testY):\n",
        "    fig, ax = plt.subplots()\n",
        "    regressor = plt.scatter(y_test, self.preds, color= 'green')\n",
        "    plt.grid()\n",
        "    ax.set_xlabel('True Values')\n",
        "    ax.set_ylabel('Fitted Values')\n",
        "    ax.set_title('True Value vs. Fitted Values');\n",
        "    plt.savefig(f'Linear Regressor.jpg', dpi=400)\n",
        "    return fig,ax, plt.show()\n",
        "    \n",
        "\n",
        "  ### Program the required methods\n",
        "\n",
        "  ### You may add other helper functions in to make your code cleaner"
      ]
    },
    {
      "cell_type": "code",
      "execution_count": 16,
      "metadata": {
        "id": "7RB4i8MI96Ys"
      },
      "outputs": [],
      "source": [
        "### Testing Data\n",
        "### DO NOT DELETE NOR MODIFY THIS CELL\n",
        "### Data can be retrieved from the git repo\n",
        "X = pd.read_csv(\"datasets/real_estate_price_size_year.csv\") \n",
        "y = X['price']\n",
        "X = X.drop('price', axis=1)\n",
        "X_train, X_test = X.iloc[0:95], X.iloc[95:]\n",
        "y_train, y_test = y.iloc[0:95], y.iloc[95:]"
      ]
    },
    {
      "cell_type": "code",
      "execution_count": 17,
      "metadata": {
        "id": "zGY61WiZ-Ze5"
      },
      "outputs": [],
      "source": [
        "## TEST #1 (Max pts: 5)\n",
        "## DO NOT DELETE NOR MODIFY THIS CELL\n",
        "regressor = MultipleLinearRegression()"
      ]
    },
    {
      "cell_type": "code",
      "execution_count": 18,
      "metadata": {
        "id": "IKuHQIceA2D0"
      },
      "outputs": [
        {
          "data": {
            "text/plain": [
              "[0.09, 0.86]"
            ]
          },
          "execution_count": 18,
          "metadata": {},
          "output_type": "execute_result"
        }
      ],
      "source": [
        "## TEST #2 (Max pts: 10)\n",
        "## DO NOT DELETE NOR MODIFY THIS CELL\n",
        "R = regressor.correlations(X,y)\n",
        "R\n"
      ]
    },
    {
      "cell_type": "markdown",
      "metadata": {
        "id": "iKPsTkB3BQuj"
      },
      "source": [
        "Expected output value:\n",
        "$$R = \\begin{bmatrix}0.09 & 0.86\\end{bmatrix}$$"
      ]
    },
    {
      "cell_type": "code",
      "execution_count": 19,
      "metadata": {
        "id": "FlWF-AQEBnwL"
      },
      "outputs": [
        {
          "data": {
            "text/plain": [
              "array([[ 2.32557432e+02],\n",
              "       [ 3.01009311e+03],\n",
              "       [-5.96417427e+06]])"
            ]
          },
          "execution_count": 19,
          "metadata": {},
          "output_type": "execute_result"
        }
      ],
      "source": [
        "## TEST #3 (Max pts: 15)\n",
        "## DO NOT DELETE NOR MODIFY THIS CELL\n",
        "\n",
        "regressor.train(X_train,y_train)\n",
        "regressor.model_"
      ]
    },
    {
      "cell_type": "markdown",
      "metadata": {
        "id": "Jpl2Cz9SB6fz"
      },
      "source": [
        "Expected output value:\n",
        "$$\\omega = \\begin{bmatrix}\\omega_1 \\\\ \\omega_2 \\\\ \\omega_0\\end{bmatrix} = \\begin{bmatrix}232.56\\\\ 3010.09 \\\\ -5964175.03\\end{bmatrix}$$"
      ]
    },
    {
      "cell_type": "code",
      "execution_count": 20,
      "metadata": {
        "id": "k9Q8e7JXC9U7"
      },
      "outputs": [
        {
          "data": {
            "text/plain": [
              "(array([[210962.87],\n",
              "        [324367.18],\n",
              "        [424013.31],\n",
              "        [251928.01],\n",
              "        [238092.95]]),\n",
              " array([0, 1, 2, 3, 4]))"
            ]
          },
          "execution_count": 20,
          "metadata": {},
          "output_type": "execute_result"
        }
      ],
      "source": [
        "## TEST #4 (Max pts: 35)\n",
        "## DO NOT DELETE NOR MODIFY THIS CELL\n",
        "preds = regressor.predict(X_test)\n",
        "preds"
      ]
    },
    {
      "cell_type": "markdown",
      "metadata": {
        "id": "BdpaVDV3DBzr"
      },
      "source": [
        "Expected output value:\n",
        "$$\\hat{y}_i = \\begin{bmatrix} 210962.87 \\\\ 324367.17 \\\\ 424013.31 \\\\ 251928.01 \\\\ 238092.94 \\end{bmatrix}, i = \\{0,1,2,3,4\\}$$"
      ]
    },
    {
      "cell_type": "code",
      "execution_count": 21,
      "metadata": {
        "id": "FUJuLe9pDArc"
      },
      "outputs": [
        {
          "ename": "AttributeError",
          "evalue": "'MultipleLinearRegression' object has no attribute 'R'",
          "output_type": "error",
          "traceback": [
            "\u001b[0;31m---------------------------------------------------------------------------\u001b[0m",
            "\u001b[0;31mAttributeError\u001b[0m                            Traceback (most recent call last)",
            "\u001b[1;32m/home/lemonbrook/code/github-repos/aida2-practice/fund_aiml_04v1_lab2_2021.ipynb Cell 13\u001b[0m in \u001b[0;36m<cell line: 3>\u001b[0;34m()\u001b[0m\n\u001b[1;32m      <a href='vscode-notebook-cell:/home/lemonbrook/code/github-repos/aida2-practice/fund_aiml_04v1_lab2_2021.ipynb#X15sZmlsZQ%3D%3D?line=0'>1</a>\u001b[0m \u001b[39m# TEST #5 (Max pts: 25)\u001b[39;00m\n\u001b[1;32m      <a href='vscode-notebook-cell:/home/lemonbrook/code/github-repos/aida2-practice/fund_aiml_04v1_lab2_2021.ipynb#X15sZmlsZQ%3D%3D?line=1'>2</a>\u001b[0m \u001b[39m## DO NOT DELETE NOR MODIFY THIS CELL\u001b[39;00m\n\u001b[0;32m----> <a href='vscode-notebook-cell:/home/lemonbrook/code/github-repos/aida2-practice/fund_aiml_04v1_lab2_2021.ipynb#X15sZmlsZQ%3D%3D?line=2'>3</a>\u001b[0m model_stats \u001b[39m=\u001b[39m regressor\u001b[39m.\u001b[39;49mevaluate()\n\u001b[1;32m      <a href='vscode-notebook-cell:/home/lemonbrook/code/github-repos/aida2-practice/fund_aiml_04v1_lab2_2021.ipynb#X15sZmlsZQ%3D%3D?line=3'>4</a>\u001b[0m model_stats\n",
            "\u001b[1;32m/home/lemonbrook/code/github-repos/aida2-practice/fund_aiml_04v1_lab2_2021.ipynb Cell 13\u001b[0m in \u001b[0;36mMultipleLinearRegression.evaluate\u001b[0;34m(self)\u001b[0m\n\u001b[1;32m     <a href='vscode-notebook-cell:/home/lemonbrook/code/github-repos/aida2-practice/fund_aiml_04v1_lab2_2021.ipynb#X15sZmlsZQ%3D%3D?line=51'>52</a>\u001b[0m mse\u001b[39m=\u001b[39mnp\u001b[39m.\u001b[39mmean(np\u001b[39m.\u001b[39msquare(y_hat\u001b[39m-\u001b[39my[\u001b[39m0\u001b[39m:\u001b[39m5\u001b[39m]))\n\u001b[1;32m     <a href='vscode-notebook-cell:/home/lemonbrook/code/github-repos/aida2-practice/fund_aiml_04v1_lab2_2021.ipynb#X15sZmlsZQ%3D%3D?line=52'>53</a>\u001b[0m rsme \u001b[39m=\u001b[39m (np\u001b[39m.\u001b[39msqrt(np\u001b[39m.\u001b[39mmean(np\u001b[39m.\u001b[39msum(np\u001b[39m.\u001b[39msquare(\u001b[39mself\u001b[39m\u001b[39m.\u001b[39my_hat)))))\n\u001b[0;32m---> <a href='vscode-notebook-cell:/home/lemonbrook/code/github-repos/aida2-practice/fund_aiml_04v1_lab2_2021.ipynb#X15sZmlsZQ%3D%3D?line=53'>54</a>\u001b[0m r2 \u001b[39m=\u001b[39m (\u001b[39mself\u001b[39;49m\u001b[39m.\u001b[39;49mR\u001b[39m*\u001b[39m\u001b[39m*\u001b[39m\u001b[39m2\u001b[39m)\n\u001b[1;32m     <a href='vscode-notebook-cell:/home/lemonbrook/code/github-repos/aida2-practice/fund_aiml_04v1_lab2_2021.ipynb#X15sZmlsZQ%3D%3D?line=54'>55</a>\u001b[0m ar2 \u001b[39m=\u001b[39m (\u001b[39m1\u001b[39m\u001b[39m-\u001b[39m((\u001b[39m1\u001b[39m\u001b[39m-\u001b[39mr2)\u001b[39m*\u001b[39m(\u001b[39mlen\u001b[39m(y)\u001b[39m-\u001b[39m\u001b[39m1\u001b[39m)\u001b[39m/\u001b[39m(\u001b[39mlen\u001b[39m(y)\u001b[39m-\u001b[39m\u001b[39mlen\u001b[39m(X)\u001b[39m-\u001b[39m\u001b[39m1\u001b[39m)))\n\u001b[1;32m     <a href='vscode-notebook-cell:/home/lemonbrook/code/github-repos/aida2-practice/fund_aiml_04v1_lab2_2021.ipynb#X15sZmlsZQ%3D%3D?line=55'>56</a>\u001b[0m evaluate \u001b[39m=\u001b[39m {\u001b[39m'\u001b[39m\u001b[39mSST\u001b[39m\u001b[39m'\u001b[39m: sst, \u001b[39m'\u001b[39m\u001b[39mSSR\u001b[39m\u001b[39m'\u001b[39m: ssr,\u001b[39m'\u001b[39m\u001b[39mMSE\u001b[39m\u001b[39m'\u001b[39m: mse,\u001b[39m'\u001b[39m\u001b[39mRSME\u001b[39m\u001b[39m'\u001b[39m: rsme,\n\u001b[1;32m     <a href='vscode-notebook-cell:/home/lemonbrook/code/github-repos/aida2-practice/fund_aiml_04v1_lab2_2021.ipynb#X15sZmlsZQ%3D%3D?line=56'>57</a>\u001b[0m     \u001b[39m'\u001b[39m\u001b[39mR-squared\u001b[39m\u001b[39m'\u001b[39m: r2,\u001b[39m'\u001b[39m\u001b[39mAdjusted R-squared\u001b[39m\u001b[39m'\u001b[39m: ar2                      \n\u001b[1;32m     <a href='vscode-notebook-cell:/home/lemonbrook/code/github-repos/aida2-practice/fund_aiml_04v1_lab2_2021.ipynb#X15sZmlsZQ%3D%3D?line=57'>58</a>\u001b[0m }  \n",
            "\u001b[0;31mAttributeError\u001b[0m: 'MultipleLinearRegression' object has no attribute 'R'"
          ]
        }
      ],
      "source": [
        "# TEST #5 (Max pts: 25)\n",
        "## DO NOT DELETE NOR MODIFY THIS CELL\n",
        "model_stats = regressor.evaluate()\n",
        "model_stats"
      ]
    },
    {
      "cell_type": "code",
      "execution_count": null,
      "metadata": {
        "id": "J7XW0jArDrQs"
      },
      "outputs": [
        {
          "data": {
            "image/png": "[encoded data removed]",
            "text/plain": [
              "<Figure size 432x288 with 1 Axes>"
            ]
          },
          "metadata": {
            "needs_background": "light"
          },
          "output_type": "display_data"
        },
        {
          "data": {
            "text/plain": [
              "(<Figure size 432x288 with 1 Axes>,\n",
              " <AxesSubplot:title={'center':'True Value vs. Fitted Values'}, xlabel='True Values', ylabel='Fitted Values'>,\n",
              " None)"
            ]
          },
          "execution_count": 12,
          "metadata": {},
          "output_type": "execute_result"
        }
      ],
      "source": [
        "## TEST #6 (Max pts: 15)\n",
        "## DO NOT DELETE NOR MODIFY THIS CELL\n",
        "regressor.visualize(X_test, y_test)"
      ]
    },
    {
      "cell_type": "markdown",
      "metadata": {
        "id": "uJ7XQVSdfEYb"
      },
      "source": [
        "# Part 2\n",
        "## 2.1 Lecture Requirement\n",
        "\n",
        "Obtain a dataset of your liking from a data source. Explain the purpose of the dataset and mention any publication if it is obtained from the source. Provide a needs statement and significance for the dataset.\n",
        "\n"
      ]
    },
    {
      "cell_type": "markdown",
      "metadata": {
        "id": "2Z2NxvcNfgL0"
      },
      "source": [
        "## 2.2 Lab Requirement\n",
        "\n",
        "Perform data exploration, data cleaning, and data visualization. The dataset should contain targets either for regression or classification. Provide the correlation and measures of error and variability of the dataset."
      ]
    },
    {
      "cell_type": "markdown",
      "metadata": {
        "id": "OFZwrRcKfhnh"
      },
      "source": [
        "# Part 3\n",
        "## 3.1 Lecture Requirement\n",
        "\n",
        "Identify an algorithm or method in performing a machine learning activity with the dataset you have chosen. Mention any papers, publications, or white papers about the properties, use, and theory behind the method. Provide an explanation of equations representing the algorithm.\n",
        "\n"
      ]
    },
    {
      "cell_type": "markdown",
      "metadata": {
        "id": "cB2qaPqtfyaC"
      },
      "source": [
        "## 3.2 Lab Requirement\n",
        "\n",
        "Present your solution implementing your algorithm of choice. You may use any library or package in this section. However, you are required to observe the following:\n",
        "\n",
        "* Enforce object-oriented programming by implementing at least two of the pillars of OOP in the entirety of the solution.\n",
        "* Dedicated functions for training, predicting, and evaluating the solution.\n",
        "* A DataFrame of the metrics of the solution\n",
        "* A visualization of the solution’s results."
      ]
    }
  ],
  "metadata": {
    "colab": {
      "name": "fund_aiml_04v1_lab2_2021.ipynb",
      "provenance": []
    },
    "kernelspec": {
      "display_name": "Python 3.9.12 ('base')",
      "language": "python",
      "name": "python3"
    },
    "language_info": {
      "codemirror_mode": {
        "name": "ipython",
        "version": 3
      },
      "file_extension": ".py",
      "mimetype": "text/x-python",
      "name": "python",
      "nbconvert_exporter": "python",
      "pygments_lexer": "ipython3",
      "version": "3.9.12"
    },
    "vscode": {
      "interpreter": {
        "hash": "f28f51b819213f93b610c120b8c68e9f39a02ecaacc6262c7bf377e51dc8effa"
      }
    }
  },
  "nbformat": 4,
  "nbformat_minor": 0
}
