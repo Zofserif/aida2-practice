{
 "cells": [
  {
   "cell_type": "markdown",
   "metadata": {},
   "source": [
    "## Vector Analysis\n",
    "\n",
    "<ul>\n",
    "<li>Review of vector representation</li>\n",
    "<li>Vector Norm</li>\n",
    "<li>Orthogonality</li>\n",
    "<li>Eigenvector & Eigen values</li>\n",
    "<li>Diagonalization</li>\n",
    "</ul>"
   ]
  },
  {
   "cell_type": "markdown",
   "metadata": {},
   "source": [
    "## Review of vector representation\n",
    "\n",
    "<ul>\n",
    "<li>vector</li>\n",
    "<li>array</li>\n",
    "<li>matrix</li>\n",
    "</ul>\n",
    "\n",
    "scalar - number(any number)\n",
    "group of scalar is a VECTOR - [1,2,3,4]\n",
    "\n",
    "collection of vector  - MATRIX"
   ]
  },
  {
   "cell_type": "code",
   "execution_count": 2,
   "metadata": {},
   "outputs": [],
   "source": [
    "import numpy as np"
   ]
  },
  {
   "cell_type": "code",
   "execution_count": 3,
   "metadata": {},
   "outputs": [],
   "source": [
    "scalar = np.array(5)\n",
    "vector = np.array([1,2,3,4])\n",
    "matrix = np.array([\n",
    "                    [1,2,3,4,5,],\n",
    "                    [6,7,8,9,10],\n",
    "                    [11,12,13,14,15]\n",
    "                    ])"
   ]
  },
  {
   "cell_type": "markdown",
   "metadata": {},
   "source": [
    "## Cosine similarity\n",
    "In a euclidean plane\n",
    "\n",
    "cos() = (AB/|A|*|B|)\n",
    "\n"
   ]
  },
  {
   "cell_type": "markdown",
   "metadata": {},
   "source": [
    "## VECTOR NORM\n",
    "Euclidean distance = L2 Norm \n",
    "\n",
    "Manhattan distance = L1 Norm\n",
    "\n",
    "dot product aralin"
   ]
  },
  {
   "cell_type": "markdown",
   "metadata": {},
   "source": [
    "### Linear Transformation\n",
    "\n",
    "Shifting something in the matrix\n",
    "\n"
   ]
  },
  {
   "cell_type": "markdown",
   "metadata": {},
   "source": [
    "## Eucliden distance\n",
    "\n",
    "\n",
    "\n",
    "cos() = (AB/|A|*|B|)"
   ]
  },
  {
   "cell_type": "code",
   "execution_count": 4,
   "metadata": {},
   "outputs": [
    {
     "data": {
      "text/plain": [
       "array([[1.10714872]])"
      ]
     },
     "execution_count": 4,
     "metadata": {},
     "output_type": "execute_result"
    }
   ],
   "source": [
    "## EUCLIDEAN / L2 NORM\n",
    "\n",
    "q = np.array([[0,1]])\n",
    "p = np.array([[1,0.5]])\n",
    "\n",
    "num = p @ np.transpose(q)\n",
    "normq = np.linalg.norm(q)\n",
    "normp = np.linalg.norm(p)\n",
    "denom = normq * normp\n",
    "theta = np.arccos(num/denom)\n",
    "theta"
   ]
  },
  {
   "cell_type": "code",
   "execution_count": 5,
   "metadata": {},
   "outputs": [],
   "source": [
    "def cos_similarity(A,B):\n",
    "    num = A @ np.transpose(B)\n",
    "    norma = np.linalg.norm(A)\n",
    "    normb = np.linalg.norm(B)\n",
    "    sim = num/ (norma*normb)\n",
    "    theta = np.arccos(sim)\n",
    "    return theta,sim\n"
   ]
  },
  {
   "cell_type": "markdown",
   "metadata": {},
   "source": [
    "## EIGENTHINGS\n",
    "\n",
    "<ul>\n",
    "<li>Linear dependence</li>\n",
    "</ul>"
   ]
  },
  {
   "cell_type": "code",
   "execution_count": 59,
   "metadata": {},
   "outputs": [
    {
     "name": "stdout",
     "output_type": "stream",
     "text": [
      "[[-1.  0.]\n",
      " [ 0.  1.]]\n",
      "[[0. 1.]\n",
      " [1. 0.]]\n"
     ]
    }
   ],
   "source": [
    "## DIAGONALIZATION AND EIGENVECTOR\n",
    "\n",
    "x = np.array([[0,1],[1,0]])\n",
    "# print(x)\n",
    "\n",
    "evals = np.linalg.eig(x)\n",
    "evects = np.linalg.eig(x)\n",
    "\n",
    "\n",
    "evectsT = np.transpose(evects[1])\n",
    "evectsT_inv = np.linalg.inv(evectsT)\n",
    "\n",
    "\n",
    "# d = evectsT @ x @ evectsT_inv\n",
    "d = evectsT_inv @ x @ evectsT\n",
    "\n",
    "print(d)\n",
    "\n",
    "## decrypting\n",
    "\n",
    "xd = evectsT @ d @ evectsT_inv\n",
    "\n",
    "print(xd)"
   ]
  },
  {
   "cell_type": "code",
   "execution_count": null,
   "metadata": {},
   "outputs": [],
   "source": []
  }
 ],
 "metadata": {
  "kernelspec": {
   "display_name": "Python 3.10.4 64-bit",
   "language": "python",
   "name": "python3"
  },
  "language_info": {
   "codemirror_mode": {
    "name": "ipython",
    "version": 3
   },
   "file_extension": ".py",
   "mimetype": "text/x-python",
   "name": "python",
   "nbconvert_exporter": "python",
   "pygments_lexer": "ipython3",
   "version": "3.10.4"
  },
  "orig_nbformat": 4,
  "vscode": {
   "interpreter": {
    "hash": "916dbcbb3f70747c44a77c7bcd40155683ae19c65e1c03b4aa3499c5328201f1"
   }
  }
 },
 "nbformat": 4,
 "nbformat_minor": 2
}
