{
 "cells": [
  {
   "cell_type": "markdown",
   "metadata": {},
   "source": [
    "### Submitted by: Troy Joaquin Vallarta"
   ]
  },
  {
   "cell_type": "code",
   "execution_count": 8,
   "metadata": {},
   "outputs": [],
   "source": [
    "import numpy as np\n",
    "import matplotlib.pyplot as plt\n",
    "\n",
    "import pandas as pd\n",
    "\n",
    "## importing datasets\n",
    "\n",
    "movies_pd = pd.read_csv('datasets/movie_metadata_cleaned.csv')"
   ]
  },
  {
   "cell_type": "markdown",
   "metadata": {},
   "source": [
    "#### Question\n",
    "\n",
    "1.Is the no. of facebook likes in Director's Facebook page matters to the gross sales of the movie?\n",
    "\n",
    "2.What is the correlation , is it negative or positive correlation? Show your graph?\n",
    "\n",
    "3.Does the plot of the movie dependent to budget? Show the positive and negative correlation if there is?\n",
    "\n",
    "Share your notebook at cherry.casuat@adamson.edu.ph"
   ]
  },
  {
   "cell_type": "code",
   "execution_count": null,
   "metadata": {},
   "outputs": [],
   "source": [
    "## Number 1\n",
    "\n"
   ]
  }
 ],
 "metadata": {
  "kernelspec": {
   "display_name": "Python 3.9.12 ('base')",
   "language": "python",
   "name": "python3"
  },
  "language_info": {
   "codemirror_mode": {
    "name": "ipython",
    "version": 3
   },
   "file_extension": ".py",
   "mimetype": "text/x-python",
   "name": "python",
   "nbconvert_exporter": "python",
   "pygments_lexer": "ipython3",
   "version": "3.9.12"
  },
  "orig_nbformat": 4,
  "vscode": {
   "interpreter": {
    "hash": "f28f51b819213f93b610c120b8c68e9f39a02ecaacc6262c7bf377e51dc8effa"
   }
  }
 },
 "nbformat": 4,
 "nbformat_minor": 2
}
