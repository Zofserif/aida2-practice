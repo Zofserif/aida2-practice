{
  "cells": [
    {
      "cell_type": "markdown",
      "metadata": {},
      "source": [
        "### Submitted by: Troy Joaquin G. Vallarta"
      ]
    },
    {
      "cell_type": "markdown",
      "metadata": {
        "id": "M15k8ZhQPlDx"
      },
      "source": [
        "# Topic 04.1: Regression\n",
        "$_{\\text{©D.J. Lopez | 2021 | Fundamentals of Machine Learning}}$\n",
        "\n",
        "Now we are starting with the core machine learning topics. We will first try be acquainted with supervised learning specifically with statistical learning. In this notebook, we will be discussing the most fundamental algorithm in Data Science and Artificial Intelligence — Regression. Specifically we will cover the following topics:\n",
        "* Linear Regression\n",
        "* Least Squares\n",
        "* Multiple Linear Regression\n"
      ]
    },
    {
      "cell_type": "markdown",
      "metadata": {
        "id": "BsJ2SocbUg1Z"
      },
      "source": [
        "## 4.1 Correlation\n",
        "Before dwelling into regression we must first lay the difference between correlation and causation. Regression specifically talks about the causality or the the cause and effect relationship of variables. Whereas correlation talks about how associated variables are.\n",
        "\n",
        "![img](https://external-content.duckduckgo.com/iu/?u=https%3A%2F%2Fd35fo82fjcw0y8.cloudfront.net%2F2018%2F07%2F05092148%2Fcorrelation-vs-causation-phone-RAM1-1024x574.png&f=1&nofb=1)\n",
        "\n",
        "In this example we can see a distinction from correlation and causation. There will be an association with messages failing to send and the freezing of your phone. You could say something:\n",
        "\n",
        "* A: \"I can't send messages whenever my phone freezes. and conversely:\n",
        "\n",
        "* B: \"My phone froze so I can't send messages.\". \n",
        "\n",
        "A and B still make sense even if we switch up the logic. The statements could be symmetric! But if you try to put into a condition statement or implication it doesn't give much meaning. For example we could say: \n",
        "\n",
        "* C: \"If my phone freezes I can't send messages.\" and\n",
        "\n",
        "* D: \"If I can't send messages, then my phone froze\".\n",
        "\n",
        "Now the two statements does not have same meaning. This is now a perspective of causality. One factor affecting the other. Now not all variables causes the other to happen. There would be times that there is an indirect relationship, and a hidden variable establishes the causality, we call this a **confounding variable**.\n",
        "\n"
      ]
    },
    {
      "cell_type": "markdown",
      "metadata": {
        "id": "FDwPfqBAXoix"
      },
      "source": [
        "### 4.1.1 Covariance\n",
        "\n",
        "Now let's acquainted with another statistic called covariance. The covariance tells us the relationship between variables in datasets. A positive covariance indicates that the varaibles are moving along the same direction or they are directly proportional while negative covariances tell us that these variables have inverse relationships. We can compute the covariance as:\n",
        "\n",
        "$$\\text{Cov}(X,Y) = \\frac{1}{N}\\sum^N_{i=0}(x_i-\\bar{x})(y_i-\\bar{y})\\\\_{\\text{Eq. 4.1}}$$"
      ]
    },
    {
      "cell_type": "code",
      "execution_count": 45,
      "metadata": {
        "id": "-wrnPm8hph9k"
      },
      "outputs": [],
      "source": [
        "import numpy as np\n",
        "import matplotlib.pyplot as plt\n",
        "import pandas as pd"
      ]
    },
    {
      "cell_type": "code",
      "execution_count": 46,
      "metadata": {
        "colab": {
          "base_uri": "https://localhost:8080/",
          "height": 320
        },
        "id": "VDZ8_GXrXoXc",
        "outputId": "1b5f13db-bf24-49e5-8fa0-cf3b6d20624e"
      },
      "outputs": [
        {
          "data": {
            "image/png": "[encoded data removed]",
            "text/plain": [
              "<Figure size 360x360 with 1 Axes>"
            ]
          },
          "metadata": {
            "needs_background": "light"
          },
          "output_type": "display_data"
        }
      ],
      "source": [
        "'''\n",
        "Let's create dummy data showing positive and negative correlations\n",
        "'''\n",
        "def create_corr_data(n,is_neg=False):\n",
        "  inv = -1 if is_neg else 1\n",
        "  X = np.arange(0,n,1,dtype=np.float64) ## features\n",
        "  m = inv*np.random.uniform(0.1,0.3,(n,)) ## weights\n",
        "  b = np.random.uniform(8,10,(n,)) ## biases\n",
        "  y = m*X+b  ## targets\n",
        "  return X,y,m,b\n",
        "\n",
        "n=100\n",
        "X,y,_,_ = create_corr_data(n,is_neg=True)\n",
        "\n",
        "plt.figure(figsize=(5,5))\n",
        "plt.grid()\n",
        "plt.scatter(X,y)\n",
        "plt.show()\n",
        "\n"
      ]
    },
    {
      "cell_type": "code",
      "execution_count": 47,
      "metadata": {
        "colab": {
          "base_uri": "https://localhost:8080/",
          "height": 337
        },
        "id": "vT7pRMLycr7b",
        "outputId": "db99ccb5-ca88-48a5-ca0e-26274275be60"
      },
      "outputs": [
        {
          "data": {
            "image/png": "[encoded data removed]",
            "text/plain": [
              "<Figure size 360x360 with 1 Axes>"
            ]
          },
          "metadata": {
            "needs_background": "light"
          },
          "output_type": "display_data"
        },
        {
          "name": "stdout",
          "output_type": "stream",
          "text": [
            "Covariance is: -41.26585532641987\n"
          ]
        }
      ],
      "source": [
        "## Coding covariances\n",
        "\n",
        "### Prepare the dataset\n",
        "n=50\n",
        "X,y,_,_ = create_corr_data(n,is_neg=True)\n",
        "## take the means of X and Y\n",
        "x_bar = X.mean()\n",
        "y_bar = y.mean()\n",
        "\n",
        "## get the difference for each data point from their means\n",
        "sst_x = X-x_bar\n",
        "sst_y = y-y_bar\n",
        "\n",
        "## compute for the covariance by Eq. 4.1\n",
        "cov = np.mean(sst_x*sst_y)\n",
        "\n",
        "plt.figure(figsize=(5,5))\n",
        "plt.grid()\n",
        "plt.scatter(X,y)\n",
        "plt.show()\n",
        "print(f'Covariance is: {cov}')\n",
        "\n",
        "## Try to create a cov function that will dynamically ask users for two datasets"
      ]
    },
    {
      "cell_type": "markdown",
      "metadata": {
        "id": "Ey_h3cbjidZT"
      },
      "source": [
        "#### Variance-Covariance Matrix\n",
        "\n",
        "Another useful matrix in statistics is the Variance-covariance matrix. This matrix shows the dispersion of each variable. It is easier to remember the format of the matrix as:\n",
        "$$\\begin{bmatrix} \\text{Cov}(X,X) & \\text{Cov}(X,y) \\\\\n",
        "\\text{Cov}(y,X) & \\text{Cov}(y,y) \\end{bmatrix}$$\n",
        "\n",
        "For brevity it can be formally expressed as:\n",
        "$$\\begin{bmatrix} \\sigma^2_X & \\text{Cov}(X,y) \\\\\n",
        "\\text{Cov}(y,X) & \\sigma^2_y\\end{bmatrix}$$"
      ]
    },
    {
      "cell_type": "code",
      "execution_count": 48,
      "metadata": {
        "colab": {
          "base_uri": "https://localhost:8080/"
        },
        "id": "HhOmrqLjhrX7",
        "outputId": "7f6846bb-448d-4074-8a7a-429a2787ba6b"
      },
      "outputs": [
        {
          "data": {
            "text/plain": [
              "-41.26585532641986"
            ]
          },
          "execution_count": 48,
          "metadata": {},
          "output_type": "execute_result"
        }
      ],
      "source": [
        "## To get the covairance matrix we use np.cov\n",
        "cov_mat = np.cov(X,y, bias=True) ## we tick the bias since we used a bias term\n",
        "\n",
        "## We can then take cov(x,y) at the (0,1) position of a covariance matrix\n",
        "cov_mat[0,1]"
      ]
    },
    {
      "cell_type": "markdown",
      "metadata": {
        "id": "WTOeq2kwX35Z"
      },
      "source": [
        "### 4.1.2 Pearson Correlation\n",
        "Another measure of relationship of datasets is the Pearson Correlation Coefficient or Pearson's R. Pearson's R is specifically a measure of linear correlation between data. It can be interpreted as the ratio between the covariances of the two variables and the product of their standard deviations.\n",
        "$$r_{X,y} = \\frac{\\text{Cov(X,y)}}{\\sigma_X \\sigma_y} \\\\_{\\text{Eq. 4.2}}$$"
      ]
    },
    {
      "cell_type": "code",
      "execution_count": 49,
      "metadata": {
        "colab": {
          "base_uri": "https://localhost:8080/"
        },
        "id": "5MV3YbJyhdMD",
        "outputId": "b5f6a20f-cb7a-4682-ba63-5976a1b3e342"
      },
      "outputs": [
        {
          "data": {
            "text/plain": [
              "0.8021210296430052"
            ]
          },
          "execution_count": 49,
          "metadata": {},
          "output_type": "execute_result"
        }
      ],
      "source": [
        "### Obtain a dataset\n",
        "n=100\n",
        "X,y,_,_ = create_corr_data(n,is_neg=False)\n",
        "\n",
        "## Compute for cov(x,y)\n",
        "cov_xy = np.cov(X,y, bias=True)[0,1]\n",
        "\n",
        "## Get the st.dev of X and y\n",
        "std_X = np.std(X)\n",
        "std_y = np.std(y)\n",
        "\n",
        "## Compute for Pearson's R\n",
        "R = cov_xy / (std_X*std_y)\n",
        "R"
      ]
    },
    {
      "cell_type": "markdown",
      "metadata": {
        "id": "Rl_GtK2bmuzI"
      },
      "source": [
        "Now you might wonder if you would use `np.corrcoeff()` it will be a different value. This is because we are using the general  form of Pearson's R for population. NumPy uses are more stable and more adaptable for samples. We will not cover it in this notebook but you if you want to know more you can read futher [here](http://statisticslectures.com/topics/pearsonr/).\n",
        "\n",
        "$$\\omega_1 = r\\frac{\\sigma_y}{\\sigma_x}=\\frac{\\bar{y}*\\sum(x_i^2)-\\bar{x}\\sum(x_i*y_i)}{\\sum(x^2_i-n\\bar{x}^2)}\\\\ _{\\text{(Eq. 4.2.1)}}$$\n",
        "$$\\omega_0 =\\bar{y}-\\omega_1\\bar{x}= \\frac{\\sum(x_i*y_i)-\\bar{x}\\sum(y_i)}{\\sum(x^2_i-n\\bar{x}^2)}\\\\ _{\\text{(Eq. 4.2.2)}}$$\n",
        "\n",
        "Whereas $r$ is the Pearson correlation solved as:\n",
        "$$r = \\frac{\\sum((x-\\bar{x})(y-\\bar{y}))}{\\sqrt{\\sum(x-\\bar{x})\\sum(y-\\bar{y})}}\\\\ _{\\text{(Eq. 4.2.3)}}$$"
      ]
    },
    {
      "cell_type": "code",
      "execution_count": 50,
      "metadata": {
        "colab": {
          "base_uri": "https://localhost:8080/"
        },
        "id": "EFpT_POmleB7",
        "outputId": "ba25eb43-c586-4c23-e23f-8074bd8866c3"
      },
      "outputs": [
        {
          "data": {
            "text/plain": [
              "array([[1.        , 0.80212103],\n",
              "       [0.80212103, 1.        ]])"
            ]
          },
          "execution_count": 50,
          "metadata": {},
          "output_type": "execute_result"
        }
      ],
      "source": [
        "np.corrcoef(X,y)"
      ]
    },
    {
      "cell_type": "markdown",
      "metadata": {
        "id": "w-edqPInQngp"
      },
      "source": [
        "## 4.2 Linear Regression\n",
        "As the name suggests, linear regression tries to find the best fit straight line to a given dataset. This algorithm is one of the simplest yet most important alogorithm in regression since it is the foundation of many more complex regression techniques.\n",
        "\n",
        "The goal of this algorithm is finding a linear equation that would best describe a set of data. The equation to be used in finding that linear equation is function is given as:\n",
        "$$y = \\omega_0 + \\omega_1 X \\\\ _{\\text{Eq. 4.3}}$$\n",
        "\n",
        "Whereas $X$ is the dataset while $y$ is the corresponding values for each datapoint in $X$. The variable $\\omega$ is called the weight of the dataset consiting of $\\omega_0$ and $\\omega_1$. In other literature, $\\omega_0$ is called the bias term sometimes written as $b$. The following equations are used to solve for $\\omega_0$ and $\\omega_1$:\n",
        "$$\\omega_1 = r\\frac{\\sigma_y}{\\sigma_x}\\\\ _{\\text{Eq. 4.3.1}}$$\n",
        "$$\\omega_0 =\\bar{y}-\\omega_1\\bar{x}\\\\ _{\\text{Eq. 4.3.2}}$$"
      ]
    },
    {
      "cell_type": "code",
      "execution_count": 51,
      "metadata": {
        "colab": {
          "base_uri": "https://localhost:8080/"
        },
        "id": "YGtgNR3CPZrW",
        "outputId": "3d2dc1a9-b1aa-48bb-9630-d09ae4f360d9"
      },
      "outputs": [
        {
          "name": "stdout",
          "output_type": "stream",
          "text": [
            "Computed w0 is 9.688113474136394, theoretical @ 9.238004181740427\n",
            "Computed w1 is 0.134312647192198, theoretical @ 0.2222365591067496\n",
            "Equation: y = 0.134312647192198 X + 9.688113474136394\n"
          ]
        }
      ],
      "source": [
        "## Create a dataset\n",
        "n=10\n",
        "X,y,m,b = create_corr_data(n,is_neg=False)\n",
        "w1_th = m.mean()\n",
        "w0_th = b.mean()\n",
        "## Compute for the std.dev of X and y\n",
        "std_X, std_y = np.std(X), np.std(y)\n",
        "\n",
        "## Compute for Pearson's R\n",
        "rho = np.corrcoef(X,y)[0,1]\n",
        "\n",
        "## Compute for the weights of the bias term\n",
        "w1 = rho*(std_y/std_X)\n",
        "\n",
        "## Compute for the weights of the feature\n",
        "w0 = y.mean()-w1*X.mean()\n",
        "\n",
        "print(f\"Computed w0 is {w0}, theoretical @ {w0_th}\")\n",
        "print(f\"Computed w1 is {w1}, theoretical @ {w1_th}\")\n",
        "print(f\"Equation: y = {w1} X + {w0}\")"
      ]
    },
    {
      "cell_type": "code",
      "execution_count": 52,
      "metadata": {
        "colab": {
          "base_uri": "https://localhost:8080/"
        },
        "id": "HSfL2t0J8jGI",
        "outputId": "03269b6c-6b98-421b-9daa-c3bc4e60f4f8"
      },
      "outputs": [
        {
          "data": {
            "text/plain": [
              "array([0., 1., 2., 3., 4., 5., 6., 7., 8., 9.])"
            ]
          },
          "execution_count": 52,
          "metadata": {},
          "output_type": "execute_result"
        }
      ],
      "source": [
        "X"
      ]
    },
    {
      "cell_type": "code",
      "execution_count": 53,
      "metadata": {
        "colab": {
          "base_uri": "https://localhost:8080/",
          "height": 320
        },
        "id": "og6t1wcX8RRk",
        "outputId": "9d5dbf3a-c2c6-489a-d32f-dc8dd17fac10"
      },
      "outputs": [
        {
          "data": {
            "image/png": "[encoded data removed]",
            "text/plain": [
              "<Figure size 360x360 with 1 Axes>"
            ]
          },
          "metadata": {
            "needs_background": "light"
          },
          "output_type": "display_data"
        }
      ],
      "source": [
        "model = w0 + w1*X\n",
        "plt.figure(figsize=(5,5))\n",
        "plt.grid()\n",
        "plt.scatter(X,y)\n",
        "plt.plot(X, model)\n",
        "plt.show()"
      ]
    },
    {
      "cell_type": "code",
      "execution_count": 54,
      "metadata": {
        "colab": {
          "base_uri": "https://localhost:8080/"
        },
        "id": "8G7wcmXH8v8w",
        "outputId": "ade9ef30-468b-4893-da0e-337e31bdc0ba"
      },
      "outputs": [
        {
          "data": {
            "text/plain": [
              "12.374366417980355"
            ]
          },
          "execution_count": 54,
          "metadata": {},
          "output_type": "execute_result"
        }
      ],
      "source": [
        "def predict(w0,w1,x):\n",
        "  return w0+w1*x\n",
        "predict(w0,w1,20)"
      ]
    },
    {
      "cell_type": "code",
      "execution_count": 55,
      "metadata": {
        "id": "H1rY9VD-sjLe"
      },
      "outputs": [],
      "source": [
        "from sklearn.linear_model import LinearRegression"
      ]
    },
    {
      "cell_type": "code",
      "execution_count": 56,
      "metadata": {
        "colab": {
          "base_uri": "https://localhost:8080/"
        },
        "id": "3DgG7g_bswg0",
        "outputId": "e88bee7c-df45-4fdd-89b2-57351b4ea7e3"
      },
      "outputs": [
        {
          "name": "stdout",
          "output_type": "stream",
          "text": [
            "Weight of the feature is [0.13431265]\n",
            "Bias of the model is [9.68811347]\n",
            "Equation: y = [0.13431265] X + [9.68811347]\n"
          ]
        }
      ],
      "source": [
        "model = LinearRegression()\n",
        "model.fit(X.reshape(-1,1),y.reshape(-1,1))\n",
        "print(f\"Weight of the feature is {model.coef_[0]}\")\n",
        "print(f\"Bias of the model is {model.intercept_}\")\n",
        "print(f\"Equation: y = {model.coef_[0]} X + {model.intercept_}\")"
      ]
    },
    {
      "cell_type": "markdown",
      "metadata": {
        "id": "NigYFzkv8kxx"
      },
      "source": [
        "### Metrics\n",
        "Like any machine learning models we must determine their level of acceptance through measurements. The succeeding sections will cover on how to determine the error and accuracy of regression models"
      ]
    },
    {
      "cell_type": "markdown",
      "metadata": {
        "id": "5FXcYTDk8qrS"
      },
      "source": [
        "#### **Measures of Error**\n",
        "Error or losses are computed to determine the robustness of a model to certain dataset. There are several ways to compute the error some of them are:\n",
        "* Sum of Squares Total\n",
        "* Sum of Squares Regression\n",
        "* Sum of Squares Error\n",
        "* Mean Squared Error\n",
        "* Mean Absolute Error\n",
        "* Mean Abosulute Percentage Error"
      ]
    },
    {
      "cell_type": "markdown",
      "metadata": {
        "id": "6i7NHjfE-TqC"
      },
      "source": [
        "##### *Sum of Squares Total*\n",
        "The Sum of Squares Total or SST is a measure of the variability of dataset it is computed by:\n",
        "$$SST = \\sum_{i=0}^n(y_i-\\bar{y})^2 \\\\_\\text{Eq.4.3.3}$$"
      ]
    },
    {
      "cell_type": "code",
      "execution_count": 57,
      "metadata": {
        "id": "fO6hdbAO-TKD"
      },
      "outputs": [],
      "source": [
        "def SST(y):\n",
        "  return np.sum(np.square(y-y.mean()))"
      ]
    },
    {
      "cell_type": "markdown",
      "metadata": {
        "id": "oeODV2fa_3uJ"
      },
      "source": [
        "##### *Sum of Squares Regression*\n",
        "The Sum of Squares Regression or SSR is a measure of the variability of the model it is computed by:\n",
        "$$SSR = \\sum_{i=0}^n(\\hat{y_i}-\\bar{y})^2 \\\\_\\text{Eq.4.3.4}$$"
      ]
    },
    {
      "cell_type": "code",
      "execution_count": 58,
      "metadata": {
        "id": "qLOR-J0n-fFy"
      },
      "outputs": [],
      "source": [
        "def SSR(y,y_hat):\n",
        "  return np.sum(np.square(y_hat-y.mean()))"
      ]
    },
    {
      "cell_type": "markdown",
      "metadata": {
        "id": "VC9goqdkAUs5"
      },
      "source": [
        "##### *Sum of Squares Error*\n",
        "The Sum of Squares Regression or SSE is a measure of the variability of the model with respect to the residuals or its deviation from the ground truths, it is computed by:\n",
        "$$SSE = \\sum_{i=0}^n(\\hat{y_i}-y_i)^2 \\\\_\\text{Eq.4.3.5}$$"
      ]
    },
    {
      "cell_type": "code",
      "execution_count": 59,
      "metadata": {
        "id": "jaaJLXVz_TzC"
      },
      "outputs": [],
      "source": [
        "def SSE(y,y_hat):\n",
        "  return np.sum(np.square(y_hat-y))"
      ]
    },
    {
      "cell_type": "markdown",
      "metadata": {
        "id": "9XGq7UTpBRgR"
      },
      "source": [
        "##### *Mean of Squared Error*\n",
        "The Mean Squared Error or MSE the name suggests it is the mean of the squared errors or SSE. It is the average error of a model. It is computed as:\n",
        "$$MSE = \\frac{1}{n}\\sum_{i=0}^n(\\hat{y_i}-y_i)^2 \\\\_\\text{Eq.4.3.6}$$"
      ]
    },
    {
      "cell_type": "code",
      "execution_count": 60,
      "metadata": {
        "id": "MbU9LLTwAcXC"
      },
      "outputs": [],
      "source": [
        "def MSE(y,y_hat):\n",
        "  return np.mean(np.square(y_hat-y))"
      ]
    },
    {
      "cell_type": "markdown",
      "metadata": {
        "id": "y8MhMECmB3s5"
      },
      "source": [
        "##### *Mean of Absolute Error*\n",
        "The Mean Absolute Error or MAE, is another error measurement between the model and the ground truths but uses the Manhattan distance instead of the Euclidean distance from SSE.\n",
        "$$MAE = \\frac{1}{n}\\sum_{i=0}^n|\\hat{y_i}-y_i| \\\\_\\text{Eq.4.3.7}$$"
      ]
    },
    {
      "cell_type": "code",
      "execution_count": 61,
      "metadata": {
        "id": "PvBUHM9-BuHz"
      },
      "outputs": [],
      "source": [
        "def MAE(y,y_hat):\n",
        "  return np.mean(np.abs(y_hat-y))"
      ]
    },
    {
      "cell_type": "markdown",
      "metadata": {
        "id": "wtxZTA_HCk8J"
      },
      "source": [
        "##### *Mean of Absolute Percentage Error*\n",
        "The Mean Absolute Percentage Error or MAPE, is another error measurement derived from MAE but this time the error normalized. It is computed as:\n",
        "$$MAPE = \\frac{100\\%}{n}\\sum_{i=0}^n|\\frac{\\hat{y_i}-y_i}{y_i}| \\\\_\\text{Eq.4.3.8}$$"
      ]
    },
    {
      "cell_type": "code",
      "execution_count": 62,
      "metadata": {
        "id": "WtnOqag8CY8x"
      },
      "outputs": [],
      "source": [
        "def MAPE(y,y_hat):\n",
        "  return 100*np.mean(np.abs((y_hat-y)/y))"
      ]
    },
    {
      "cell_type": "markdown",
      "metadata": {
        "id": "HY_cEapgDR3a"
      },
      "source": [
        "##### *Root Mean Squared Error*\n",
        "The Root Mean Squared Error or RMSE, is the root of the RMSE which brings it back to its actual unit. It is computed as:\n",
        "$$RMSE = \\sqrt{\\frac{1}{n}\\sum_{i=0}^n(\\hat{y_i}-y_i)^2} \\\\_\\text{Eq.4.3.9}$$"
      ]
    },
    {
      "cell_type": "markdown",
      "metadata": {
        "id": "lr88swia8uQR"
      },
      "source": [
        "#### Measures Accuracy\n",
        "We measure the accuracy of the regression through its explainability. We measure it through the R-squared or the Adjusted R-squared."
      ]
    },
    {
      "cell_type": "markdown",
      "metadata": {
        "id": "928QePzBD-GC"
      },
      "source": [
        "#### *R-squared*\n",
        "The R-squared is a statistical measurement also known as the coefficient of determination wherein it shows the explanatory power of the variables used in the model. It is computed by:\n",
        "\n",
        "$$R^2 = 1 - \\frac{SSE}{SST}\\\\_\\text{Eq.4.3.10}$$\n"
      ]
    },
    {
      "cell_type": "markdown",
      "metadata": {
        "id": "LDscohAmFr75"
      },
      "source": [
        "#### *Adjusted R-squared*\n",
        "The Adjusted R-squared is another statistical measurement for detemrinign the explanatory power of a model. Unlike, R-squared it is adjusted accordingly to the total datapoints and the features involved in the computation. It is computed by:\n",
        "\n",
        "$$Adj. R^2 = 1 - \\frac{SSE}{SST}\\cdot \\frac{n-1}{n-k-1} = 1 - \\frac{(1-R^2)(n-1)}{n-k-1}\\\\_\\text{Eq.4.3.10}$$\n",
        "\n",
        "Whereas $n$ is the total number of datapoints in the dataset and $k$ is the total number of features to be used in the regression."
      ]
    },
    {
      "cell_type": "markdown",
      "metadata": {
        "id": "Ic07c675j3nr"
      },
      "source": [
        "## 4.3 Least Squares\n",
        "The least squares method is an optimization alogrithm in finding the best fit line for a given dataset. Just like with any numerical technique it utilizes iterations to mimimize the error.\n"
      ]
    },
    {
      "cell_type": "markdown",
      "metadata": {
        "id": "uCWxTwZRoliq"
      },
      "source": [
        "### 4.3.1 Iteration Method\n",
        "The main idea of the iteration method is to iteratively fit a line to the dataset. We tend to guess iteratively whether the line we are fitting is right. With this we can call the line the we are going to fit as the hypothesis or $h_\\theta$ we can then compute the $h_\\theta$ for this linear regression problem as:\n",
        "$$h_\\theta = \\theta X+b \\\\_\\text{Eq.4.4.1}$$\n",
        "Whereas $X$ is the feature vector, $b$ is the bias vector, and $\\theta$ is the weight vector  of the features. We then determine whether our hypothesis is correct by determining its error. Its error is determined by the Sum of Squared Error or SSE. We compute the SSE as the sum of the distances of each hypothesis $h_\\theta$ to the target $y$. We denote the SSE as the loss function of this optimization problem, we denote it as $J(\\theta)$.\n",
        "$$J(\\theta) =  \\sum(h_\\theta - y)^2\\\\_\\text{Eq.4.4.2}$$\n",
        "We then delare the optimization goal for this problem as to minimize the loss function:\n",
        "$$\\min(J)\\\\_\\text{Eq.4.4.3}$$"
      ]
    },
    {
      "cell_type": "code",
      "execution_count": 63,
      "metadata": {
        "id": "d2DRFpdPnqxx"
      },
      "outputs": [],
      "source": [
        "## Create a Dataset\n",
        "n=30\n",
        "X,y,_,_ = create_corr_data(n,is_neg=False)"
      ]
    },
    {
      "cell_type": "code",
      "execution_count": 64,
      "metadata": {
        "colab": {
          "base_uri": "https://localhost:8080/",
          "height": 337
        },
        "id": "vIJuX50Fseir",
        "outputId": "3ed0c997-7826-4b5d-ea85-0198b17134ab"
      },
      "outputs": [
        {
          "data": {
            "text/plain": [
              "<matplotlib.collections.PathCollection at 0x7f4d677b7b80>"
            ]
          },
          "execution_count": 64,
          "metadata": {},
          "output_type": "execute_result"
        },
        {
          "data": {
            "image/png": "[encoded data removed]",
            "text/plain": [
              "<Figure size 360x360 with 1 Axes>"
            ]
          },
          "metadata": {
            "needs_background": "light"
          },
          "output_type": "display_data"
        }
      ],
      "source": [
        "plt.figure(figsize=(5,5))\n",
        "plt.grid()\n",
        "plt.scatter(X,y)"
      ]
    },
    {
      "cell_type": "code",
      "execution_count": 65,
      "metadata": {
        "id": "AjODWrXFvZ8p"
      },
      "outputs": [],
      "source": [
        "## Modelling optimization routine using first iteration\n",
        "## initialize optimization variables\n",
        "def init_linear_reg(X,y):\n",
        "  theta = 0 ##angle is 0\n",
        "  b = 8.6\n",
        "  h = theta*X + b\n",
        "  return theta,b, h\n",
        "theta, b, h = init_linear_reg(X,y)"
      ]
    },
    {
      "cell_type": "code",
      "execution_count": 66,
      "metadata": {
        "colab": {
          "base_uri": "https://localhost:8080/"
        },
        "id": "IBfyeqwxvv2U",
        "outputId": "de8eddb0-c0b5-4745-ad95-06e3e85d878f"
      },
      "outputs": [
        {
          "data": {
            "text/plain": [
              "398.33155677877454"
            ]
          },
          "execution_count": 66,
          "metadata": {},
          "output_type": "execute_result"
        }
      ],
      "source": [
        "def SSE(h,y):\n",
        "  return np.sum(np.square(h-y))\n",
        "J = SSE(h,y)\n",
        "J"
      ]
    },
    {
      "cell_type": "code",
      "execution_count": 67,
      "metadata": {
        "colab": {
          "base_uri": "https://localhost:8080/",
          "height": 351
        },
        "id": "nvobahcQwAvp",
        "outputId": "78932120-45f3-430d-e420-f3967f85c55b"
      },
      "outputs": [
        {
          "data": {
            "image/png": "[encoded data removed]",
            "text/plain": [
              "<Figure size 360x360 with 1 Axes>"
            ]
          },
          "metadata": {
            "needs_background": "light"
          },
          "output_type": "display_data"
        }
      ],
      "source": [
        "def disp_hypothesis(X,y,h,loss,iter):\n",
        "  plt.figure(figsize=(5,5))\n",
        "  plt.title(f\"Least Squares \\n Iteration: {iter} | Loss @ {round(loss,3)}\")\n",
        "  plt.grid()\n",
        "  plt.scatter(X,y)\n",
        "  plt.plot(h, color='red', label='hypothesis')\n",
        "  plt.legend()\n",
        "  plt.show()\n",
        "disp_hypothesis(X,y,h,J,0)"
      ]
    },
    {
      "cell_type": "code",
      "execution_count": 68,
      "metadata": {
        "id": "8YCBalUQwHr6"
      },
      "outputs": [],
      "source": [
        "## Design the optimization iterations\n",
        "### set the range and steps\n",
        "min, max = -100, 100\n",
        "steps = 1\n",
        "iters = np.arange(min,max+steps,steps)\n",
        "\n",
        "### do a sanity check for the loop\n",
        "# for iter in iters:\n",
        "#   print(iter)"
      ]
    },
    {
      "cell_type": "code",
      "execution_count": 69,
      "metadata": {
        "colab": {
          "base_uri": "https://localhost:8080/"
        },
        "id": "E_OPB4gTxkZb",
        "outputId": "e8a8af31-5197-4926-fee3-5a686d7a140f"
      },
      "outputs": [
        {
          "name": "stdout",
          "output_type": "stream",
          "text": [
            "[INFO] Initializing Linear Regression parameters...\n",
            "[INFO] Initialization done!\n",
            "[INFO] Starting optimzation...\n",
            "[INFO] Epoch -100 | Loss: 12526.366104324386\n",
            "[INFO] Epoch -99 | Loss: 12320.391258848931\n",
            "[INFO] Epoch -98 | Loss: 12116.127413373473\n",
            "[INFO] Epoch -97 | Loss: 11913.574567898017\n",
            "[INFO] Epoch -96 | Loss: 11712.732722422561\n",
            "[INFO] Epoch -95 | Loss: 11513.601876947103\n",
            "[INFO] Epoch -94 | Loss: 11316.182031471646\n",
            "[INFO] Epoch -93 | Loss: 11120.473185996198\n",
            "[INFO] Epoch -92 | Loss: 10926.47534052074\n",
            "[INFO] Epoch -91 | Loss: 10734.188495045282\n",
            "[INFO] Epoch -90 | Loss: 10543.612649569826\n",
            "[INFO] Epoch -89 | Loss: 10354.747804094368\n",
            "[INFO] Epoch -88 | Loss: 10167.593958618912\n",
            "[INFO] Epoch -87 | Loss: 9982.151113143456\n",
            "[INFO] Epoch -86 | Loss: 9798.419267668001\n",
            "[INFO] Epoch -85 | Loss: 9616.398422192544\n",
            "[INFO] Epoch -84 | Loss: 9436.088576717088\n",
            "[INFO] Epoch -83 | Loss: 9257.48973124163\n",
            "[INFO] Epoch -82 | Loss: 9080.601885766173\n",
            "[INFO] Epoch -81 | Loss: 8905.425040290722\n",
            "[INFO] Epoch -80 | Loss: 8731.959194815265\n",
            "[INFO] Epoch -79 | Loss: 8560.204349339809\n",
            "[INFO] Epoch -78 | Loss: 8390.160503864352\n",
            "[INFO] Epoch -77 | Loss: 8221.827658388896\n",
            "[INFO] Epoch -76 | Loss: 8055.205812913441\n",
            "[INFO] Epoch -75 | Loss: 7890.294967437982\n",
            "[INFO] Epoch -74 | Loss: 7727.095121962527\n",
            "[INFO] Epoch -73 | Loss: 7565.60627648707\n",
            "[INFO] Epoch -72 | Loss: 7405.828431011615\n",
            "[INFO] Epoch -71 | Loss: 7247.761585536158\n",
            "[INFO] Epoch -70 | Loss: 7091.405740060702\n",
            "[INFO] Epoch -69 | Loss: 6936.760894585245\n",
            "[INFO] Epoch -68 | Loss: 6783.827049109792\n",
            "[INFO] Epoch -67 | Loss: 6632.604203634334\n",
            "[INFO] Epoch -66 | Loss: 6483.092358158878\n",
            "[INFO] Epoch -65 | Loss: 6335.291512683423\n",
            "[INFO] Epoch -64 | Loss: 6189.201667207966\n",
            "[INFO] Epoch -63 | Loss: 6044.82282173251\n",
            "[INFO] Epoch -62 | Loss: 5902.154976257054\n",
            "[INFO] Epoch -61 | Loss: 5761.198130781599\n",
            "[INFO] Epoch -60 | Loss: 5621.952285306141\n",
            "[INFO] Epoch -59 | Loss: 5484.417439830685\n",
            "[INFO] Epoch -58 | Loss: 5348.5935943552295\n",
            "[INFO] Epoch -57 | Loss: 5214.480748879773\n",
            "[INFO] Epoch -56 | Loss: 5082.078903404317\n",
            "[INFO] Epoch -55 | Loss: 4951.388057928862\n",
            "[INFO] Epoch -54 | Loss: 4822.408212453406\n",
            "[INFO] Epoch -53 | Loss: 4695.139366977949\n",
            "[INFO] Epoch -52 | Loss: 4569.581521502492\n",
            "[INFO] Epoch -51 | Loss: 4445.734676027037\n",
            "[INFO] Epoch -50 | Loss: 4323.59883055158\n",
            "[INFO] Epoch -49 | Loss: 4203.173985076124\n",
            "[INFO] Epoch -48 | Loss: 4084.4601396006688\n",
            "[INFO] Epoch -47 | Loss: 3967.4572941252122\n",
            "[INFO] Epoch -46 | Loss: 3852.165448649756\n",
            "[INFO] Epoch -45 | Loss: 3738.5846031743\n",
            "[INFO] Epoch -44 | Loss: 3626.714757698844\n",
            "[INFO] Epoch -43 | Loss: 3516.555912223388\n",
            "[INFO] Epoch -42 | Loss: 3408.108066747932\n",
            "[INFO] Epoch -41 | Loss: 3301.3712212724745\n",
            "[INFO] Epoch -40 | Loss: 3196.3453757970196\n",
            "[INFO] Epoch -39 | Loss: 3093.030530321563\n",
            "[INFO] Epoch -38 | Loss: 2991.4266848461075\n",
            "[INFO] Epoch -37 | Loss: 2891.5338393706515\n",
            "[INFO] Epoch -36 | Loss: 2793.3519938951945\n",
            "[INFO] Epoch -35 | Loss: 2696.8811484197386\n",
            "[INFO] Epoch -34 | Loss: 2602.1213029442824\n",
            "[INFO] Epoch -33 | Loss: 2509.072457468827\n",
            "[INFO] Epoch -32 | Loss: 2417.73461199337\n",
            "[INFO] Epoch -31 | Loss: 2328.107766517914\n",
            "[INFO] Epoch -30 | Loss: 2240.1919210424576\n",
            "[INFO] Epoch -29 | Loss: 2153.9870755670017\n",
            "[INFO] Epoch -28 | Loss: 2069.493230091546\n",
            "[INFO] Epoch -27 | Loss: 1986.7103846160896\n",
            "[INFO] Epoch -26 | Loss: 1905.6385391406336\n",
            "[INFO] Epoch -25 | Loss: 1826.2776936651776\n",
            "[INFO] Epoch -24 | Loss: 1748.6278481897214\n",
            "[INFO] Epoch -23 | Loss: 1672.6890027142654\n",
            "[INFO] Epoch -22 | Loss: 1598.4611572388094\n",
            "[INFO] Epoch -21 | Loss: 1525.944311763353\n",
            "[INFO] Epoch -20 | Loss: 1455.138466287897\n",
            "[INFO] Epoch -19 | Loss: 1386.0436208124408\n",
            "[INFO] Epoch -18 | Loss: 1318.6597753369847\n",
            "[INFO] Epoch -17 | Loss: 1252.9869298615288\n",
            "[INFO] Epoch -16 | Loss: 1189.0250843860724\n",
            "[INFO] Epoch -15 | Loss: 1126.7742389106163\n",
            "[INFO] Epoch -14 | Loss: 1066.2343934351604\n",
            "[INFO] Epoch -13 | Loss: 1007.4055479597043\n",
            "[INFO] Epoch -12 | Loss: 950.2877024842478\n",
            "[INFO] Epoch -11 | Loss: 894.8808570087918\n",
            "[INFO] Epoch -10 | Loss: 841.1850115333357\n",
            "[INFO] Epoch -9 | Loss: 789.2001660578796\n",
            "[INFO] Epoch -8 | Loss: 738.9263205824235\n",
            "[INFO] Epoch -7 | Loss: 690.3634751069675\n",
            "[INFO] Epoch -6 | Loss: 643.5116296315114\n",
            "[INFO] Epoch -5 | Loss: 598.370784156055\n",
            "[INFO] Epoch -4 | Loss: 554.940938680599\n",
            "[INFO] Epoch -3 | Loss: 513.222093205143\n",
            "[INFO] Epoch -2 | Loss: 473.21424772968686\n",
            "[INFO] Epoch -1 | Loss: 434.91740225423064\n",
            "[INFO] Epoch 0 | Loss: 398.33155677877454\n",
            "[INFO] Epoch 1 | Loss: 363.4567113033185\n",
            "[INFO] Epoch 2 | Loss: 330.29286582786233\n",
            "[INFO] Epoch 3 | Loss: 298.8400203524062\n",
            "[INFO] Epoch 4 | Loss: 269.0981748769501\n",
            "[INFO] Epoch 5 | Loss: 241.06732940149394\n",
            "[INFO] Epoch 6 | Loss: 214.7474839260379\n",
            "[INFO] Epoch 7 | Loss: 190.13863845058174\n",
            "[INFO] Epoch 8 | Loss: 167.24079297512563\n",
            "[INFO] Epoch 9 | Loss: 146.05394749966956\n",
            "[INFO] Epoch 10 | Loss: 126.57810202421341\n",
            "[INFO] Epoch 11 | Loss: 108.8132565487573\n",
            "[INFO] Epoch 12 | Loss: 92.7594110733012\n",
            "[INFO] Epoch 13 | Loss: 78.41656559784505\n",
            "[INFO] Epoch 14 | Loss: 65.78472012238893\n",
            "[INFO] Epoch 15 | Loss: 54.863874646932835\n",
            "[INFO] Epoch 16 | Loss: 45.65402917147671\n",
            "[INFO] Epoch 17 | Loss: 38.155183696020586\n",
            "[INFO] Epoch 18 | Loss: 32.36733822056447\n",
            "[INFO] Epoch 19 | Loss: 28.29049274510836\n",
            "[INFO] Epoch 20 | Loss: 25.924647269652237\n",
            "[INFO] Epoch 21 | Loss: 25.269801794196127\n",
            "[INFO] Epoch 22 | Loss: 26.32595631874002\n",
            "[INFO] Epoch 23 | Loss: 29.093110843283895\n",
            "[INFO] Epoch 24 | Loss: 33.57126536782776\n",
            "[INFO] Epoch 25 | Loss: 39.76041989237167\n",
            "[INFO] Epoch 26 | Loss: 47.66057441691557\n",
            "[INFO] Epoch 27 | Loss: 57.27172894145945\n",
            "[INFO] Epoch 28 | Loss: 68.59388346600335\n",
            "[INFO] Epoch 29 | Loss: 81.6270379905472\n",
            "[INFO] Epoch 30 | Loss: 96.37119251509107\n",
            "[INFO] Epoch 31 | Loss: 112.826347039635\n",
            "[INFO] Epoch 32 | Loss: 130.9925015641789\n",
            "[INFO] Epoch 33 | Loss: 150.8696560887228\n",
            "[INFO] Epoch 34 | Loss: 172.45781061326662\n",
            "[INFO] Epoch 35 | Loss: 195.75696513781045\n",
            "[INFO] Epoch 36 | Loss: 220.76711966235445\n",
            "[INFO] Epoch 37 | Loss: 247.48827418689825\n",
            "[INFO] Epoch 38 | Loss: 275.9204287114422\n",
            "[INFO] Epoch 39 | Loss: 306.06358323598613\n",
            "[INFO] Epoch 40 | Loss: 337.91773776053003\n",
            "[INFO] Epoch 41 | Loss: 371.4828922850738\n",
            "[INFO] Epoch 42 | Loss: 406.75904680961764\n",
            "[INFO] Epoch 43 | Loss: 443.74620133416164\n",
            "[INFO] Epoch 44 | Loss: 482.4443558587056\n",
            "[INFO] Epoch 45 | Loss: 522.8535103832494\n",
            "[INFO] Epoch 46 | Loss: 564.9736649077932\n",
            "[INFO] Epoch 47 | Loss: 608.804819432337\n",
            "[INFO] Epoch 48 | Loss: 654.3469739568809\n",
            "[INFO] Epoch 49 | Loss: 701.6001284814248\n",
            "[INFO] Epoch 50 | Loss: 750.5642830059691\n",
            "[INFO] Epoch 51 | Loss: 801.2394375305125\n",
            "[INFO] Epoch 52 | Loss: 853.6255920550568\n",
            "[INFO] Epoch 53 | Loss: 907.7227465796005\n",
            "[INFO] Epoch 54 | Loss: 963.5309011041445\n",
            "[INFO] Epoch 55 | Loss: 1021.0500556286886\n",
            "[INFO] Epoch 56 | Loss: 1080.2802101532325\n",
            "[INFO] Epoch 57 | Loss: 1141.221364677776\n",
            "[INFO] Epoch 58 | Loss: 1203.8735192023196\n",
            "[INFO] Epoch 59 | Loss: 1268.2366737268637\n",
            "[INFO] Epoch 60 | Loss: 1334.3108282514074\n",
            "[INFO] Epoch 61 | Loss: 1402.0959827759516\n",
            "[INFO] Epoch 62 | Loss: 1471.5921373004953\n",
            "[INFO] Epoch 63 | Loss: 1542.7992918250393\n",
            "[INFO] Epoch 64 | Loss: 1615.7174463495835\n",
            "[INFO] Epoch 65 | Loss: 1690.3466008741273\n",
            "[INFO] Epoch 66 | Loss: 1766.686755398671\n",
            "[INFO] Epoch 67 | Loss: 1844.737909923215\n",
            "[INFO] Epoch 68 | Loss: 1924.5000644477595\n",
            "[INFO] Epoch 69 | Loss: 2005.9732189723024\n",
            "[INFO] Epoch 70 | Loss: 2089.157373496846\n",
            "[INFO] Epoch 71 | Loss: 2174.05252802139\n",
            "[INFO] Epoch 72 | Loss: 2260.658682545934\n",
            "[INFO] Epoch 73 | Loss: 2348.975837070478\n",
            "[INFO] Epoch 74 | Loss: 2439.0039915950224\n",
            "[INFO] Epoch 75 | Loss: 2530.743146119567\n",
            "[INFO] Epoch 76 | Loss: 2624.19330064411\n",
            "[INFO] Epoch 77 | Loss: 2719.3544551686537\n",
            "[INFO] Epoch 78 | Loss: 2816.2266096931976\n",
            "[INFO] Epoch 79 | Loss: 2914.809764217742\n",
            "[INFO] Epoch 80 | Loss: 3015.103918742286\n",
            "[INFO] Epoch 81 | Loss: 3117.10907326683\n",
            "[INFO] Epoch 82 | Loss: 3220.825227791373\n",
            "[INFO] Epoch 83 | Loss: 3326.2523823159163\n",
            "[INFO] Epoch 84 | Loss: 3433.3905368404603\n",
            "[INFO] Epoch 85 | Loss: 3542.2396913650045\n",
            "[INFO] Epoch 86 | Loss: 3652.799845889548\n",
            "[INFO] Epoch 87 | Loss: 3765.071000414093\n",
            "[INFO] Epoch 88 | Loss: 3879.053154938636\n",
            "[INFO] Epoch 89 | Loss: 3994.7463094631803\n",
            "[INFO] Epoch 90 | Loss: 4112.150463987725\n",
            "[INFO] Epoch 91 | Loss: 4231.265618512268\n",
            "[INFO] Epoch 92 | Loss: 4352.091773036813\n",
            "[INFO] Epoch 93 | Loss: 4474.628927561357\n",
            "[INFO] Epoch 94 | Loss: 4598.877082085899\n",
            "[INFO] Epoch 95 | Loss: 4724.836236610443\n",
            "[INFO] Epoch 96 | Loss: 4852.506391134987\n",
            "[INFO] Epoch 97 | Loss: 4981.887545659531\n",
            "[INFO] Epoch 98 | Loss: 5112.979700184075\n",
            "[INFO] Epoch 99 | Loss: 5245.782854708619\n",
            "[INFO] Epoch 100 | Loss: 5380.297009233164\n"
          ]
        }
      ],
      "source": [
        "## initialize the optimization routing\n",
        "print(\"[INFO] Initializing Linear Regression parameters...\")\n",
        "theta, b, h = init_linear_reg(X,y)\n",
        "print(\"[INFO] Initialization done!\")\n",
        "\n",
        "## create logs for optimization backtracking\n",
        "history = {\n",
        "    'epoch': [],\n",
        "    'theta': [],\n",
        "    'model': [],\n",
        "    'loss': []\n",
        "}\n",
        "print(\"[INFO] Starting optimzation...\")\n",
        "for iter in iters:\n",
        "  ## set the angle as the normalized ratio of the iter to max\n",
        "  theta = iter/max\n",
        "  ## compute for the hypothesis\n",
        "  h = theta*X + b\n",
        "  ## compute for the loss\n",
        "  J = SSE(h,y)\n",
        "\n",
        "  ## log the changes\n",
        "  history['epoch'].append(iter)\n",
        "  history['theta'].append(theta)\n",
        "  history['model'].append(h)\n",
        "  history['loss'].append(J)\n",
        "  print(f\"[INFO] Epoch {iter} | Loss: {J}\")"
      ]
    },
    {
      "cell_type": "code",
      "execution_count": 70,
      "metadata": {
        "colab": {
          "base_uri": "https://localhost:8080/",
          "height": 423
        },
        "id": "K_0_zTUW1C-c",
        "outputId": "865026ac-e6d9-4f86-9954-62222e4b6be5"
      },
      "outputs": [
        {
          "data": {
            "text/html": [
              "<div>\n",
              "<style scoped>\n",
              "    .dataframe tbody tr th:only-of-type {\n",
              "        vertical-align: middle;\n",
              "    }\n",
              "\n",
              "    .dataframe tbody tr th {\n",
              "        vertical-align: top;\n",
              "    }\n",
              "\n",
              "    .dataframe thead th {\n",
              "        text-align: right;\n",
              "    }\n",
              "</style>\n",
              "<table border=\"1\" class=\"dataframe\">\n",
              "  <thead>\n",
              "    <tr style=\"text-align: right;\">\n",
              "      <th></th>\n",
              "      <th>epoch</th>\n",
              "      <th>theta</th>\n",
              "      <th>model</th>\n",
              "      <th>loss</th>\n",
              "    </tr>\n",
              "  </thead>\n",
              "  <tbody>\n",
              "    <tr>\n",
              "      <th>0</th>\n",
              "      <td>-100</td>\n",
              "      <td>-1.00</td>\n",
              "      <td>[8.6, 7.6, 6.6, 5.6, 4.6, 3.5999999999999996, ...</td>\n",
              "      <td>12526.366104</td>\n",
              "    </tr>\n",
              "    <tr>\n",
              "      <th>1</th>\n",
              "      <td>-99</td>\n",
              "      <td>-0.99</td>\n",
              "      <td>[8.6, 7.609999999999999, 6.619999999999999, 5....</td>\n",
              "      <td>12320.391259</td>\n",
              "    </tr>\n",
              "    <tr>\n",
              "      <th>2</th>\n",
              "      <td>-98</td>\n",
              "      <td>-0.98</td>\n",
              "      <td>[8.6, 7.619999999999999, 6.64, 5.66, 4.68, 3.6...</td>\n",
              "      <td>12116.127413</td>\n",
              "    </tr>\n",
              "    <tr>\n",
              "      <th>3</th>\n",
              "      <td>-97</td>\n",
              "      <td>-0.97</td>\n",
              "      <td>[8.6, 7.63, 6.66, 5.6899999999999995, 4.72, 3....</td>\n",
              "      <td>11913.574568</td>\n",
              "    </tr>\n",
              "    <tr>\n",
              "      <th>4</th>\n",
              "      <td>-96</td>\n",
              "      <td>-0.96</td>\n",
              "      <td>[8.6, 7.64, 6.68, 5.72, 4.76, 3.8, 2.84, 1.88,...</td>\n",
              "      <td>11712.732722</td>\n",
              "    </tr>\n",
              "    <tr>\n",
              "      <th>...</th>\n",
              "      <td>...</td>\n",
              "      <td>...</td>\n",
              "      <td>...</td>\n",
              "      <td>...</td>\n",
              "    </tr>\n",
              "    <tr>\n",
              "      <th>196</th>\n",
              "      <td>96</td>\n",
              "      <td>0.96</td>\n",
              "      <td>[8.6, 9.559999999999999, 10.52, 11.48, 12.44, ...</td>\n",
              "      <td>4852.506391</td>\n",
              "    </tr>\n",
              "    <tr>\n",
              "      <th>197</th>\n",
              "      <td>97</td>\n",
              "      <td>0.97</td>\n",
              "      <td>[8.6, 9.57, 10.54, 11.51, 12.48, 13.45, 14.42,...</td>\n",
              "      <td>4981.887546</td>\n",
              "    </tr>\n",
              "    <tr>\n",
              "      <th>198</th>\n",
              "      <td>98</td>\n",
              "      <td>0.98</td>\n",
              "      <td>[8.6, 9.58, 10.559999999999999, 11.54, 12.52, ...</td>\n",
              "      <td>5112.979700</td>\n",
              "    </tr>\n",
              "    <tr>\n",
              "      <th>199</th>\n",
              "      <td>99</td>\n",
              "      <td>0.99</td>\n",
              "      <td>[8.6, 9.59, 10.58, 11.57, 12.559999999999999, ...</td>\n",
              "      <td>5245.782855</td>\n",
              "    </tr>\n",
              "    <tr>\n",
              "      <th>200</th>\n",
              "      <td>100</td>\n",
              "      <td>1.00</td>\n",
              "      <td>[8.6, 9.6, 10.6, 11.6, 12.6, 13.6, 14.6, 15.6,...</td>\n",
              "      <td>5380.297009</td>\n",
              "    </tr>\n",
              "  </tbody>\n",
              "</table>\n",
              "<p>201 rows × 4 columns</p>\n",
              "</div>"
            ],
            "text/plain": [
              "     epoch  theta                                              model  \\\n",
              "0     -100  -1.00  [8.6, 7.6, 6.6, 5.6, 4.6, 3.5999999999999996, ...   \n",
              "1      -99  -0.99  [8.6, 7.609999999999999, 6.619999999999999, 5....   \n",
              "2      -98  -0.98  [8.6, 7.619999999999999, 6.64, 5.66, 4.68, 3.6...   \n",
              "3      -97  -0.97  [8.6, 7.63, 6.66, 5.6899999999999995, 4.72, 3....   \n",
              "4      -96  -0.96  [8.6, 7.64, 6.68, 5.72, 4.76, 3.8, 2.84, 1.88,...   \n",
              "..     ...    ...                                                ...   \n",
              "196     96   0.96  [8.6, 9.559999999999999, 10.52, 11.48, 12.44, ...   \n",
              "197     97   0.97  [8.6, 9.57, 10.54, 11.51, 12.48, 13.45, 14.42,...   \n",
              "198     98   0.98  [8.6, 9.58, 10.559999999999999, 11.54, 12.52, ...   \n",
              "199     99   0.99  [8.6, 9.59, 10.58, 11.57, 12.559999999999999, ...   \n",
              "200    100   1.00  [8.6, 9.6, 10.6, 11.6, 12.6, 13.6, 14.6, 15.6,...   \n",
              "\n",
              "             loss  \n",
              "0    12526.366104  \n",
              "1    12320.391259  \n",
              "2    12116.127413  \n",
              "3    11913.574568  \n",
              "4    11712.732722  \n",
              "..            ...  \n",
              "196   4852.506391  \n",
              "197   4981.887546  \n",
              "198   5112.979700  \n",
              "199   5245.782855  \n",
              "200   5380.297009  \n",
              "\n",
              "[201 rows x 4 columns]"
            ]
          },
          "execution_count": 70,
          "metadata": {},
          "output_type": "execute_result"
        }
      ],
      "source": [
        "hists_df = pd.DataFrame(history)\n",
        "hists_df"
      ]
    },
    {
      "cell_type": "code",
      "execution_count": 71,
      "metadata": {
        "colab": {
          "base_uri": "https://localhost:8080/",
          "height": 297
        },
        "id": "oDTYnA361Wb7",
        "outputId": "7156ba98-6939-4477-9a6d-3344d8faaae5"
      },
      "outputs": [
        {
          "data": {
            "text/plain": [
              "Text(0, 0.5, 'Loss')"
            ]
          },
          "execution_count": 71,
          "metadata": {},
          "output_type": "execute_result"
        },
        {
          "data": {
            "image/png": "[encoded data removed]",
            "text/plain": [
              "<Figure size 432x288 with 1 Axes>"
            ]
          },
          "metadata": {
            "needs_background": "light"
          },
          "output_type": "display_data"
        }
      ],
      "source": [
        "plt.plot(hists_df['theta'], hists_df['loss'])\n",
        "plt.xlabel('Theta')\n",
        "plt.ylabel('Loss')"
      ]
    },
    {
      "cell_type": "code",
      "execution_count": 72,
      "metadata": {
        "colab": {
          "base_uri": "https://localhost:8080/"
        },
        "id": "Q_GEanoC15pT",
        "outputId": "cf4175ab-631d-4479-cb4c-1379a237f067"
      },
      "outputs": [
        {
          "data": {
            "text/plain": [
              "0.21"
            ]
          },
          "execution_count": 72,
          "metadata": {},
          "output_type": "execute_result"
        }
      ],
      "source": [
        "### gets the index of the least error\n",
        "hists_df['loss'].idxmin()\n",
        "### retrieve the theta of the least error\n",
        "hists_vals = hists_df.iloc[hists_df['loss'].idxmin()]\n",
        "hists_vals['theta']"
      ]
    },
    {
      "cell_type": "code",
      "execution_count": 73,
      "metadata": {
        "colab": {
          "base_uri": "https://localhost:8080/",
          "height": 351
        },
        "id": "av2qZQu83j6j",
        "outputId": "edbb5424-fa22-4ee2-a218-5d8971ae235c"
      },
      "outputs": [
        {
          "data": {
            "image/png": "[encoded data removed]",
            "text/plain": [
              "<Figure size 360x360 with 1 Axes>"
            ]
          },
          "metadata": {
            "needs_background": "light"
          },
          "output_type": "display_data"
        }
      ],
      "source": [
        "## Plotting\n",
        "model = hists_vals['theta']*X +b\n",
        "disp_hypothesis(X,y,hists_vals['model'], hists_vals['loss'], hists_vals['epoch'])"
      ]
    },
    {
      "cell_type": "code",
      "execution_count": 74,
      "metadata": {
        "colab": {
          "base_uri": "https://localhost:8080/",
          "height": 351
        },
        "id": "fYxCeIOp8T1r",
        "outputId": "e44692e5-e764-4c0f-b7fb-8329e8234c5e"
      },
      "outputs": [
        {
          "data": {
            "image/png": "[encoded data removed]",
            "text/plain": [
              "<Figure size 360x360 with 1 Axes>"
            ]
          },
          "metadata": {
            "needs_background": "light"
          },
          "output_type": "display_data"
        }
      ],
      "source": [
        "epoch = 20\n",
        "vals = hists_df.loc[hists_df['epoch']==epoch]\n",
        "disp_hypothesis(X,y,vals['model'].iloc[0],\n",
        "                float(vals['loss']), \n",
        "                float(vals['epoch']))"
      ]
    },
    {
      "cell_type": "markdown",
      "metadata": {
        "id": "YlXwkRrhMDdp"
      },
      "source": [
        "## 4.4 Multiple Linear Regression \n",
        "Multiple linear regression, as the name suggests uses more linear regressors in the algorithm. This can be used if there are more than one features to a dataset. The MLR can be formulated as:\n",
        "$$y = \\omega_0 + \\omega_1 x_1 + \\omega_2 x_2 + ... + \\omega_n x_n \\\\ _{\\text{(Eq. 4.5.1)}}$$\n",
        "Whereas $\\omega_0$ is the bias term while $\\omega_n$ are the weights or slopes of the features $x_n$. The simplest way to implement an MLR algorithm is looping over each feature and their dataset and compute the corresponding weights. In this course, we are going to implement vectorization in implementing MLR. So instead of hte linear equation in Eq. 4.4 we can re-form the equation to the matrix equation:\n",
        "$$y = \\omega X^T$$\n",
        "Whereas $\\omega$ is a vector that includes all the weights of the features $\\begin{bmatrix}\\omega_0 \\\\ \\omega_1 \\\\ \\omega_2 \\\\ \\vdots \\\\ \\omega_n\\end{bmatrix}$. While $X$ are the data of each feature vector $\\begin{bmatrix}1\\\\ x_1 \\\\ x_2 \\\\ \\vdots \\\\ x_n\\end{bmatrix}$.\n",
        "\n",
        "We will use the **Normal Equation** in solving MLR. The Normal equation uses the Least-Squares Cost function and is formulated as:\n",
        "$$\\theta = (X^TX)^{-1}X^Ty \\\\ _{\\text{(Eq. 4.5.2)}}$$\n",
        "Whereas $\\theta$ is the hypothesis or model to be created while $X$ represents the data vector and $y$ represents the labels or values corresponding to the data vector. The term $(X^TX)^{-1}$ is called the **pseudoinverse** or the **Moore-Penrose** matrix. The pseudoinverse of a matrix term of Eq. 4.5 assures that the data are normal or orthogonal. This helps check the property of Autocorrelation between the features of the data. The other properties of datasets that are safe for linear regression are Homoscedasticity, Non-multicollinearity, and Non-endogeneity. "
      ]
    },
    {
      "cell_type": "code",
      "execution_count": 75,
      "metadata": {
        "id": "O3Kdk-a9MG1x"
      },
      "outputs": [],
      "source": [
        "import numpy as np\n",
        "\n",
        "\n",
        "satisfaction = np.array([4, 2, 3, 5, 1, 5, 4, 5, 3])\n",
        "motivation = np.array([3, 2, 3, 3, 1, 4, 3, 4, 3])\n",
        "study_time = np.array([8, 8, 7, 10, 5, 9,10, 9, 7])\n",
        "\n",
        "grades =  np.array([100, 98, 89, 78, 62, 80, 88, 90, 75])\n",
        "bias = np.ones(grades.shape)"
      ]
    },
    {
      "cell_type": "code",
      "execution_count": 89,
      "metadata": {
        "colab": {
          "base_uri": "https://localhost:8080/"
        },
        "id": "1_IY4SdreY0u",
        "outputId": "67515fc6-328d-41a4-df5e-219b302e972c"
      },
      "outputs": [
        {
          "data": {
            "text/plain": [
              "(9, 1)"
            ]
          },
          "execution_count": 89,
          "metadata": {},
          "output_type": "execute_result"
        }
      ],
      "source": [
        "X = np.array([\n",
        "    satisfaction,\n",
        "    motivation,\n",
        "    study_time,\n",
        "    bias\n",
        "])\n",
        "y = grades.reshape(-1,1)\n",
        "y.shape\n"
      ]
    },
    {
      "cell_type": "code",
      "execution_count": 77,
      "metadata": {
        "colab": {
          "base_uri": "https://localhost:8080/",
          "height": 249
        },
        "id": "qGwxX5ZMe-kd",
        "outputId": "93a60f98-e256-4a8e-a7b8-6361b6735d22"
      },
      "outputs": [
        {
          "data": {
            "image/png": "[encoded data removed]",
            "text/plain": [
              "<Figure size 720x239.76 with 3 Axes>"
            ]
          },
          "metadata": {
            "needs_background": "light"
          },
          "output_type": "display_data"
        }
      ],
      "source": [
        "import matplotlib.pyplot as plt\n",
        "\n",
        "fig, ax = plt.subplots(nrows=1, ncols=3, figsize=(10,3.33))\n",
        "\n",
        "ax[0].scatter(X[0],y)\n",
        "ax[0].set_xlabel(\"Student Satisfaction\")\n",
        "ax[0].set_ylabel(\"Grades in %\")\n",
        "\n",
        "ax[1].scatter(X[1],y)\n",
        "ax[1].set_xlabel(\"Student Motivation\")\n",
        "ax[1].set_ylabel(\"Grades in %\")\n",
        "\n",
        "ax[2].scatter(X[2],y)\n",
        "ax[2].set_xlabel(\"Student Study Time (hrs)\")\n",
        "ax[2].set_ylabel(\"Grades in %\")\n",
        "\n",
        "plt.tight_layout()\n",
        "plt.show()"
      ]
    },
    {
      "cell_type": "code",
      "execution_count": 78,
      "metadata": {
        "colab": {
          "base_uri": "https://localhost:8080/"
        },
        "id": "-LWiTD-WOUtE",
        "outputId": "661bafde-fc45-4bae-c785-b0be9f12c616"
      },
      "outputs": [
        {
          "data": {
            "text/plain": [
              "array([[-11.35140562],\n",
              "       [ 12.46385542],\n",
              "       [  6.78714859],\n",
              "       [ 33.74698795]])"
            ]
          },
          "execution_count": 78,
          "metadata": {},
          "output_type": "execute_result"
        }
      ],
      "source": [
        "X_train = X.T\n",
        "X_dot = X_train.T @ X_train\n",
        "pseudoinv = np.linalg.inv(X_dot)\n",
        "y_dot = X @ y\n",
        "theta = pseudoinv @ y_dot\n",
        "theta"
      ]
    },
    {
      "cell_type": "code",
      "execution_count": 79,
      "metadata": {
        "id": "fC0syEBvng7n"
      },
      "outputs": [
        {
          "data": {
            "text/plain": [
              "array([12.46385542])"
            ]
          },
          "execution_count": 79,
          "metadata": {},
          "output_type": "execute_result"
        }
      ],
      "source": [
        "w0 = theta[-1]\n",
        "w1 = theta[0]\n",
        "w2 = theta[1]\n",
        "w3 = theta[2]\n",
        "\n",
        "w2"
      ]
    },
    {
      "cell_type": "markdown",
      "metadata": {
        "id": "PtcGo4CpaCr6"
      },
      "source": [
        "$$y = \\omega_0 + \\omega_1 x_1 + \\omega_2 x_2 + \\omega_3 x_3$$\n",
        "$$y = 33.75 - 11.35x_1+12.46x_2+6.70x_4$$"
      ]
    },
    {
      "cell_type": "code",
      "execution_count": 80,
      "metadata": {
        "colab": {
          "base_uri": "https://localhost:8080/",
          "height": 249
        },
        "id": "NKYjnYWOj8vO",
        "outputId": "872cde4a-5b82-4ace-d344-04d129738679"
      },
      "outputs": [
        {
          "data": {
            "image/png": "[encoded data removed]",
            "text/plain": [
              "<Figure size 720x239.76 with 3 Axes>"
            ]
          },
          "metadata": {
            "needs_background": "light"
          },
          "output_type": "display_data"
        }
      ],
      "source": [
        "fig, ax = plt.subplots(nrows=1, ncols=3, figsize=(10,3.33))\n",
        "\n",
        "ax[0].scatter(X[0],y)\n",
        "y_1 = w1*X[0]+w0\n",
        "ax[0].plot(X[0], y_1)\n",
        "ax[0].set_xlabel(\"Student Satisfaction\")\n",
        "ax[0].set_ylabel(\"Grades in %\")\n",
        "\n",
        "ax[1].scatter(X[1],y)\n",
        "y_2 = w2*X[1]+w0\n",
        "ax[1].plot(X[1], y_2)\n",
        "ax[1].set_xlabel(\"Student Motivation\")\n",
        "ax[1].set_ylabel(\"Grades in %\")\n",
        "\n",
        "ax[2].scatter(X[2],y)\n",
        "y_3 = w3*X[2]+w0\n",
        "ax[2].plot(X[2], y_3)\n",
        "ax[2].set_xlabel(\"Student Study Time (hrs)\")\n",
        "ax[2].set_ylabel(\"Grades in %\")\n",
        "\n",
        "plt.tight_layout()\n",
        "plt.show()"
      ]
    },
    {
      "cell_type": "code",
      "execution_count": 81,
      "metadata": {
        "colab": {
          "base_uri": "https://localhost:8080/"
        },
        "id": "lW0fUSBZ6jXd",
        "outputId": "4b6876db-4970-4e30-b314-974cff3aa726"
      },
      "outputs": [
        {
          "name": "stderr",
          "output_type": "stream",
          "text": [
            "/tmp/ipykernel_2933/3344643169.py:1: DeprecationWarning: bias and ddof have no effect and are deprecated\n",
            "  np.corrcoef(X[1],y.flatten(), bias=True)\n"
          ]
        },
        {
          "data": {
            "text/plain": [
              "array([[1.        , 0.36543536],\n",
              "       [0.36543536, 1.        ]])"
            ]
          },
          "execution_count": 81,
          "metadata": {},
          "output_type": "execute_result"
        }
      ],
      "source": [
        "np.corrcoef(X[1],y.flatten(), bias=True)"
      ]
    },
    {
      "cell_type": "code",
      "execution_count": 82,
      "metadata": {
        "id": "TnDQd8_Cr5L3"
      },
      "outputs": [],
      "source": [
        "def train(X,y):\n",
        "  X_train = X.T\n",
        "  pseudoinv = np.linalg.inv(X_train.T @ X_train)\n",
        "  y_dot = X @ y\n",
        "  theta = pseudoinv @ y_dot\n",
        "  return theta"
      ]
    },
    {
      "cell_type": "code",
      "execution_count": 83,
      "metadata": {
        "id": "51zhGpfSm-e5"
      },
      "outputs": [],
      "source": [
        "def predict(w, X):\n",
        "  preds = []\n",
        "  prod = lambda x, w: w*x \n",
        "  for i in range(X.shape[0]):\n",
        "    feature_sum = 0\n",
        "    for j in range(X.shape[1]):\n",
        "      feature_sum += prod(w[j], X[i][j])\n",
        "    preds.append(feature_sum)\n",
        "  return np.array(preds)  "
      ]
    },
    {
      "cell_type": "code",
      "execution_count": 84,
      "metadata": {
        "id": "67qM2ymbOOYu"
      },
      "outputs": [],
      "source": [
        "X_test = np.array([\n",
        "                   [4,4,11,1],\n",
        "                   [3,5,10,1],\n",
        "])"
      ]
    },
    {
      "cell_type": "code",
      "execution_count": 85,
      "metadata": {
        "colab": {
          "base_uri": "https://localhost:8080/"
        },
        "id": "DxBLEqqePkGt",
        "outputId": "ab179560-bb5f-40e8-8511-933b98133d85"
      },
      "outputs": [
        {
          "data": {
            "text/plain": [
              "array([[112.85542169],\n",
              "       [129.88353414]])"
            ]
          },
          "execution_count": 85,
          "metadata": {},
          "output_type": "execute_result"
        }
      ],
      "source": [
        "theta = train(X,y)\n",
        "predict(theta,X_test)"
      ]
    },
    {
      "cell_type": "code",
      "execution_count": 86,
      "metadata": {
        "colab": {
          "base_uri": "https://localhost:8080/"
        },
        "id": "iM7y6pWjk8Qv",
        "outputId": "27b1b5a8-f372-485f-f96b-2d5c4f6c2034"
      },
      "outputs": [
        {
          "data": {
            "text/plain": [
              "LinearRegression()"
            ]
          },
          "execution_count": 86,
          "metadata": {},
          "output_type": "execute_result"
        }
      ],
      "source": [
        "from sklearn.linear_model import LinearRegression\n",
        "model = LinearRegression()\n",
        "model.fit(X.T,y)"
      ]
    },
    {
      "cell_type": "code",
      "execution_count": 87,
      "metadata": {
        "colab": {
          "base_uri": "https://localhost:8080/"
        },
        "id": "u97nT_1Rlk7Q",
        "outputId": "5dbb04ca-e17d-447c-abde-70a98684d7db"
      },
      "outputs": [
        {
          "data": {
            "text/plain": [
              "array([[-11.35140562,  12.46385542,   6.78714859,   0.        ]])"
            ]
          },
          "execution_count": 87,
          "metadata": {},
          "output_type": "execute_result"
        }
      ],
      "source": [
        "model.coef_"
      ]
    },
    {
      "cell_type": "code",
      "execution_count": 88,
      "metadata": {
        "colab": {
          "base_uri": "https://localhost:8080/"
        },
        "id": "A6OHEZRumRgI",
        "outputId": "6d08957a-2b69-43d1-a9bb-49abe85e19c9"
      },
      "outputs": [
        {
          "data": {
            "text/plain": [
              "array([33.74698795])"
            ]
          },
          "execution_count": 88,
          "metadata": {},
          "output_type": "execute_result"
        }
      ],
      "source": [
        "model.intercept_"
      ]
    }
  ],
  "metadata": {
    "colab": {
      "name": "fund_aiml_04v1_2021.ipynb",
      "provenance": []
    },
    "kernelspec": {
      "display_name": "Python 3.9.12 ('base')",
      "language": "python",
      "name": "python3"
    },
    "language_info": {
      "codemirror_mode": {
        "name": "ipython",
        "version": 3
      },
      "file_extension": ".py",
      "mimetype": "text/x-python",
      "name": "python",
      "nbconvert_exporter": "python",
      "pygments_lexer": "ipython3",
      "version": "3.9.12"
    },
    "vscode": {
      "interpreter": {
        "hash": "f28f51b819213f93b610c120b8c68e9f39a02ecaacc6262c7bf377e51dc8effa"
      }
    }
  },
  "nbformat": 4,
  "nbformat_minor": 0
}
