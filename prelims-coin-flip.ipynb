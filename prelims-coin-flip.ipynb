{
 "cells": [
  {
   "cell_type": "markdown",
   "metadata": {},
   "source": [
    "## Prelim AIDA 2\n",
    "#### Vallarta, Troy Joaquin G."
   ]
  },
  {
   "cell_type": "code",
   "execution_count": 1,
   "metadata": {},
   "outputs": [],
   "source": [
    "import numpy as np"
   ]
  },
  {
   "cell_type": "code",
   "execution_count": 16,
   "metadata": {},
   "outputs": [
    {
     "name": "stdout",
     "output_type": "stream",
     "text": [
      "list of your flips ['tails', 'tails', 'tails', 'tails', 'head']\n"
     ]
    }
   ],
   "source": [
    "def coinflip(n):\n",
    "    flips = []\n",
    "    for i in range(n):\n",
    "        toss = np.random.randint(2)\n",
    "        if toss == 0:\n",
    "            flips.append(\"head\")\n",
    "        elif toss == 1:\n",
    "            flips.append(\"tails\")\n",
    "\n",
    "    return print(f\"list of your flips {flips}\")\n",
    "\n",
    "coinflip(5)"
   ]
  }
 ],
 "metadata": {
  "kernelspec": {
   "display_name": "Python 3.10.4 64-bit",
   "language": "python",
   "name": "python3"
  },
  "language_info": {
   "codemirror_mode": {
    "name": "ipython",
    "version": 3
   },
   "file_extension": ".py",
   "mimetype": "text/x-python",
   "name": "python",
   "nbconvert_exporter": "python",
   "pygments_lexer": "ipython3",
   "version": "3.10.4"
  },
  "orig_nbformat": 4,
  "vscode": {
   "interpreter": {
    "hash": "916dbcbb3f70747c44a77c7bcd40155683ae19c65e1c03b4aa3499c5328201f1"
   }
  }
 },
 "nbformat": 4,
 "nbformat_minor": 2
}
