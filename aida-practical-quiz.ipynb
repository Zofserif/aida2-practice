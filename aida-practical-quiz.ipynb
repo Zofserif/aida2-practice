{
 "cells": [
  {
   "cell_type": "markdown",
   "metadata": {},
   "source": [
    "## AIDA Practical Quiz\n",
    "By: Vallarta, Troy Joaquin G."
   ]
  },
  {
   "cell_type": "code",
   "execution_count": 1,
   "metadata": {},
   "outputs": [
    {
     "data": {
      "text/html": [
       "        <script type=\"text/javascript\">\n",
       "        window.PlotlyConfig = {MathJaxConfig: 'local'};\n",
       "        if (window.MathJax) {MathJax.Hub.Config({SVG: {font: \"STIX-Web\"}});}\n",
       "        if (typeof require !== 'undefined') {\n",
       "        require.undef(\"plotly\");\n",
       "        requirejs.config({\n",
       "            paths: {\n",
       "                'plotly': ['https://cdn.plot.ly/plotly-2.9.0.min']\n",
       "            }\n",
       "        });\n",
       "        require(['plotly'], function(Plotly) {\n",
       "            window._Plotly = Plotly;\n",
       "        });\n",
       "        }\n",
       "        </script>\n",
       "        "
      ]
     },
     "metadata": {},
     "output_type": "display_data"
    }
   ],
   "source": [
    "import pandas as pd \n",
    "import numpy as np \n",
    "\n",
    "import matplotlib.pyplot as plt\n",
    "import seaborn as sns\n",
    "import plotly.graph_objs as go\n",
    "import plotly.offline as py\n",
    "py.init_notebook_mode(connected=True)\n",
    "import plotly.tools as tls\n",
    "import plotly.figure_factory as ff\n",
    "from statsmodels.tsa.arima_model import ARIMA\n",
    "import statsmodels.api as sm\n",
    "\n",
    "from datetime import datetime\n",
    "\n",
    "import warnings\n",
    "warnings.filterwarnings(\"ignore\")\n",
    "from scipy import stats\n",
    "\n",
    "\n",
    "source = \"https://github.com/Zofserif/aida2-practice/blob/master/datasets/netflix_titles.xlsx?raw=true\""
   ]
  },
  {
   "cell_type": "markdown",
   "metadata": {},
   "source": [
    "<h2> DATASET READING </h2>"
   ]
  },
  {
   "cell_type": "code",
   "execution_count": 2,
   "metadata": {},
   "outputs": [],
   "source": [
    "## 1. Read the dataset in xls file.\n",
    "df = pd.read_excel(source)"
   ]
  },
  {
   "cell_type": "code",
   "execution_count": 3,
   "metadata": {},
   "outputs": [],
   "source": [
    "## Getting the categorical data\n",
    "# df5_dummy = pd.get_dummies(df5['listed_in'])\n",
    "# df5_dummy = pd.concat([df5, df5_dummy], axis =1)\n",
    "# df5_dummy.drop([\"listed_in\"], inplace=True, axis=1)\n",
    "# df5_dummy = df5_dummy.groupby(df5_dummy['show_id']).aggregate(\"sum\")\n",
    "# df5_dummy"
   ]
  },
  {
   "cell_type": "code",
   "execution_count": 4,
   "metadata": {},
   "outputs": [
    {
     "data": {
      "text/plain": [
       "duration_minutes    1969\n",
       "duration_seasons    4265\n",
       "type                   1\n",
       "title                  1\n",
       "date_added            13\n",
       "release_year           2\n",
       "rating                13\n",
       "description            3\n",
       "show_id                4\n",
       "dtype: int64"
      ]
     },
     "execution_count": 4,
     "metadata": {},
     "output_type": "execute_result"
    }
   ],
   "source": [
    "## 2. Clean the data if not yet cleaned.\n",
    "df.isnull().sum()"
   ]
  },
  {
   "cell_type": "markdown",
   "metadata": {},
   "source": [
    "##### The data is not cleaned.... "
   ]
  },
  {
   "cell_type": "markdown",
   "metadata": {},
   "source": [
    "<h2> DATA CLEANING </h2>"
   ]
  },
  {
   "cell_type": "code",
   "execution_count": 5,
   "metadata": {},
   "outputs": [
    {
     "data": {
      "text/plain": [
       "duration_minutes      int64\n",
       "type                 object\n",
       "title                object\n",
       "date_added           object\n",
       "release_year        float64\n",
       "rating               object\n",
       "description          object\n",
       "show_id             float64\n",
       "year_added            int64\n",
       "dtype: object"
      ]
     },
     "execution_count": 5,
     "metadata": {},
     "output_type": "execute_result"
    }
   ],
   "source": [
    "## 2. Clean the data if not yet cleaned.\n",
    "netflix_df = df.copy()\n",
    "netflix_df = df.dropna(subset=['duration_minutes'])\n",
    "netflix_df.pop(\"duration_seasons\")\n",
    "nonum = netflix_df[pd.to_numeric(netflix_df['duration_minutes'], errors='coerce').isna()].index\n",
    "netflix_df = netflix_df.drop(nonum)\n",
    "netflix_df = netflix_df.astype({'duration_minutes':'int'})\n",
    "netflix_df = netflix_df.dropna()\n",
    "netflix_df['year_added'] = pd.DatetimeIndex(netflix_df['date_added']).year\n",
    "netflix_df.dtypes"
   ]
  },
  {
   "cell_type": "code",
   "execution_count": 6,
   "metadata": {},
   "outputs": [
    {
     "name": "stdout",
     "output_type": "stream",
     "text": [
      "Missing values per column:\n",
      "duration_minutes    0\n",
      "type                0\n",
      "title               0\n",
      "date_added          0\n",
      "release_year        0\n",
      "rating              0\n",
      "description         0\n",
      "show_id             0\n",
      "year_added          0\n",
      "dtype: int64\n",
      "\n",
      "Missing values per row:\n",
      "0     0\n",
      "1     0\n",
      "4     0\n",
      "6     0\n",
      "7     0\n",
      "9     0\n",
      "10    0\n",
      "11    0\n",
      "12    0\n",
      "13    0\n",
      "dtype: int64\n"
     ]
    }
   ],
   "source": [
    "def val_missing(x):\n",
    "  return sum(x.isnull())\n",
    "\n",
    "#Applying per column:\n",
    "print (\"Missing values per column:\")\n",
    "print (netflix_df.apply(val_missing, axis=0)) \n",
    "\n",
    "#Applying per row:\n",
    "print (\"\\nMissing values per row:\")\n",
    "print (netflix_df.apply(val_missing, axis=1).head(10)) "
   ]
  },
  {
   "cell_type": "markdown",
   "metadata": {},
   "source": [
    "<h4> Now that the data is cleaned </h4>"
   ]
  },
  {
   "cell_type": "code",
   "execution_count": 7,
   "metadata": {},
   "outputs": [
    {
     "data": {
      "text/html": [
       "<div>\n",
       "<style scoped>\n",
       "    .dataframe tbody tr th:only-of-type {\n",
       "        vertical-align: middle;\n",
       "    }\n",
       "\n",
       "    .dataframe tbody tr th {\n",
       "        vertical-align: top;\n",
       "    }\n",
       "\n",
       "    .dataframe thead th {\n",
       "        text-align: right;\n",
       "    }\n",
       "</style>\n",
       "<table border=\"1\" class=\"dataframe\">\n",
       "  <thead>\n",
       "    <tr style=\"text-align: right;\">\n",
       "      <th></th>\n",
       "      <th>duration_minutes</th>\n",
       "      <th>release_year</th>\n",
       "      <th>year_added</th>\n",
       "    </tr>\n",
       "  </thead>\n",
       "  <tbody>\n",
       "    <tr>\n",
       "      <th>count</th>\n",
       "      <td>4255.000000</td>\n",
       "      <td>4255.000000</td>\n",
       "      <td>4255.000000</td>\n",
       "    </tr>\n",
       "    <tr>\n",
       "      <th>mean</th>\n",
       "      <td>99.173208</td>\n",
       "      <td>2012.364747</td>\n",
       "      <td>2017.995770</td>\n",
       "    </tr>\n",
       "    <tr>\n",
       "      <th>std</th>\n",
       "      <td>28.047928</td>\n",
       "      <td>9.689053</td>\n",
       "      <td>1.202951</td>\n",
       "    </tr>\n",
       "    <tr>\n",
       "      <th>min</th>\n",
       "      <td>3.000000</td>\n",
       "      <td>1942.000000</td>\n",
       "      <td>2008.000000</td>\n",
       "    </tr>\n",
       "    <tr>\n",
       "      <th>25%</th>\n",
       "      <td>86.000000</td>\n",
       "      <td>2012.000000</td>\n",
       "      <td>2017.000000</td>\n",
       "    </tr>\n",
       "    <tr>\n",
       "      <th>50%</th>\n",
       "      <td>98.000000</td>\n",
       "      <td>2016.000000</td>\n",
       "      <td>2018.000000</td>\n",
       "    </tr>\n",
       "    <tr>\n",
       "      <th>75%</th>\n",
       "      <td>115.000000</td>\n",
       "      <td>2017.000000</td>\n",
       "      <td>2019.000000</td>\n",
       "    </tr>\n",
       "    <tr>\n",
       "      <th>max</th>\n",
       "      <td>312.000000</td>\n",
       "      <td>2020.000000</td>\n",
       "      <td>2020.000000</td>\n",
       "    </tr>\n",
       "  </tbody>\n",
       "</table>\n",
       "</div>"
      ],
      "text/plain": [
       "       duration_minutes  release_year   year_added\n",
       "count       4255.000000   4255.000000  4255.000000\n",
       "mean          99.173208   2012.364747  2017.995770\n",
       "std           28.047928      9.689053     1.202951\n",
       "min            3.000000   1942.000000  2008.000000\n",
       "25%           86.000000   2012.000000  2017.000000\n",
       "50%           98.000000   2016.000000  2018.000000\n",
       "75%          115.000000   2017.000000  2019.000000\n",
       "max          312.000000   2020.000000  2020.000000"
      ]
     },
     "execution_count": 7,
     "metadata": {},
     "output_type": "execute_result"
    }
   ],
   "source": [
    "## 3.  Create a python program that will show the descriptive analysis of the datasets ( Count, min, max, standard deviation, 75%,50%and 25%)\n",
    "netflix_df.describe().iloc[:,[0,1,3]]"
   ]
  },
  {
   "cell_type": "code",
   "execution_count": 8,
   "metadata": {},
   "outputs": [
    {
     "data": {
      "image/png": "[encoded data removed]",
      "text/plain": [
       "<Figure size 864x504 with 1 Axes>"
      ]
     },
     "metadata": {
      "needs_background": "light"
     },
     "output_type": "display_data"
    }
   ],
   "source": [
    "x=netflix_df[\"release_year\"]\n",
    "y=netflix_df[\"year_added\"]\n",
    "plt.figure(figsize=(12,7))\n",
    "plt.scatter(x,y,alpha=0.1,c='r')\n",
    "plt.title(\"Time between movie/show release and netflix release\")\n",
    "plt.xlabel(\"Release Year\")\n",
    "plt.ylabel(\"Year added\");"
   ]
  },
  {
   "cell_type": "code",
   "execution_count": 9,
   "metadata": {},
   "outputs": [
    {
     "data": {
      "image/png": "[encoded data removed]",
      "text/plain": [
       "<Figure size 864x504 with 1 Axes>"
      ]
     },
     "metadata": {
      "needs_background": "light"
     },
     "output_type": "display_data"
    }
   ],
   "source": [
    "## 5. Create a python program that will plot and show the regression line and regression coefficient.\n",
    "slope, intercept, r, p, std_err = stats.linregress(x, y)\n",
    "\n",
    "def regression(x):\n",
    "  return slope * x + intercept\n",
    "\n",
    "mymodel = list(map(regression, x))\n",
    "\n",
    "plt.figure(figsize=(12,7))\n",
    "plt.scatter(x,y,alpha=0.1,c='r')\n",
    "plt.plot(x,mymodel,color=\"blue\")\n",
    "plt.title(\"Time between movie/show release and netflix release\")\n",
    "plt.xlabel(\"Release Year\")\n",
    "plt.ylabel(\"Year added\");"
   ]
  },
  {
   "cell_type": "code",
   "execution_count": 10,
   "metadata": {},
   "outputs": [
    {
     "name": "stdout",
     "output_type": "stream",
     "text": [
      "The ression coefficient is -0.031229582173478043. Therefore There are almost no correlation with each other leaning towards negative correlation slightly\n"
     ]
    }
   ],
   "source": [
    "def find_cor(X,y):\n",
    "    ## Finding the mean of X and y\n",
    "    x_bar = X.mean()\n",
    "    y_bar = y.mean()\n",
    "\n",
    "    ## get the difference for each data point from their means\n",
    "    sst_x = X-x_bar\n",
    "    sst_y = y-y_bar\n",
    "\n",
    "    ## Finding the covariance of X and y\n",
    "    cov_xy = np.cov(X,y, bias=True)[0,1]\n",
    "\n",
    "    ## Finding the standard deviation of X and y\n",
    "    std_X = np.std(X)\n",
    "    std_y = np.std(y)\n",
    "\n",
    "    ## Finding the correlation\n",
    "    R = cov_xy /(std_X*std_y)\n",
    "    return R\n",
    "\n",
    "print(f'The ression coefficient is {find_cor(x,y)}. Therefore There are almost no correlation with each other leaning towards negative correlation slightly')"
   ]
  },
  {
   "cell_type": "markdown",
   "metadata": {},
   "source": [
    "The reason why the correaltion is slightly negative is that some of the shows are added in netflix library is late because of licensing and other acquisition. There are also movies & shows that are in the library older than the creation of Netflix which is 1997."
   ]
  },
  {
   "cell_type": "code",
   "execution_count": 19,
   "metadata": {},
   "outputs": [
    {
     "data": {
      "text/html": [
       "<div>\n",
       "<style scoped>\n",
       "    .dataframe tbody tr th:only-of-type {\n",
       "        vertical-align: middle;\n",
       "    }\n",
       "\n",
       "    .dataframe tbody tr th {\n",
       "        vertical-align: top;\n",
       "    }\n",
       "\n",
       "    .dataframe thead th {\n",
       "        text-align: right;\n",
       "    }\n",
       "</style>\n",
       "<table border=\"1\" class=\"dataframe\">\n",
       "  <thead>\n",
       "    <tr style=\"text-align: right;\">\n",
       "      <th></th>\n",
       "      <th>value</th>\n",
       "    </tr>\n",
       "    <tr>\n",
       "      <th>date_added</th>\n",
       "      <th></th>\n",
       "    </tr>\n",
       "  </thead>\n",
       "  <tbody>\n",
       "    <tr>\n",
       "      <th>2008-01-31</th>\n",
       "      <td>1</td>\n",
       "    </tr>\n",
       "    <tr>\n",
       "      <th>2008-02-29</th>\n",
       "      <td>0</td>\n",
       "    </tr>\n",
       "    <tr>\n",
       "      <th>2008-03-31</th>\n",
       "      <td>0</td>\n",
       "    </tr>\n",
       "    <tr>\n",
       "      <th>2008-04-30</th>\n",
       "      <td>0</td>\n",
       "    </tr>\n",
       "    <tr>\n",
       "      <th>2008-05-31</th>\n",
       "      <td>0</td>\n",
       "    </tr>\n",
       "    <tr>\n",
       "      <th>...</th>\n",
       "      <td>...</td>\n",
       "    </tr>\n",
       "    <tr>\n",
       "      <th>2019-09-30</th>\n",
       "      <td>96</td>\n",
       "    </tr>\n",
       "    <tr>\n",
       "      <th>2019-10-31</th>\n",
       "      <td>136</td>\n",
       "    </tr>\n",
       "    <tr>\n",
       "      <th>2019-11-30</th>\n",
       "      <td>205</td>\n",
       "    </tr>\n",
       "    <tr>\n",
       "      <th>2019-12-31</th>\n",
       "      <td>179</td>\n",
       "    </tr>\n",
       "    <tr>\n",
       "      <th>2020-01-31</th>\n",
       "      <td>147</td>\n",
       "    </tr>\n",
       "  </tbody>\n",
       "</table>\n",
       "<p>145 rows × 1 columns</p>\n",
       "</div>"
      ],
      "text/plain": [
       "            value\n",
       "date_added       \n",
       "2008-01-31      1\n",
       "2008-02-29      0\n",
       "2008-03-31      0\n",
       "2008-04-30      0\n",
       "2008-05-31      0\n",
       "...           ...\n",
       "2019-09-30     96\n",
       "2019-10-31    136\n",
       "2019-11-30    205\n",
       "2019-12-31    179\n",
       "2020-01-31    147\n",
       "\n",
       "[145 rows x 1 columns]"
      ]
     },
     "execution_count": 19,
     "metadata": {},
     "output_type": "execute_result"
    }
   ],
   "source": [
    "## 6. Create a python code to predict future values. Is linear regression the appropriate method to use to predict future values? Why?\n",
    "ts=netflix_df.copy()\n",
    "ts_show=ts.groupby(pd.Grouper(key='date_added', axis=0, freq='M'))[\"show_id\"].count()\n",
    "ts_show=ts_show.to_frame()\n",
    "ts_show = ts_show.rename({\"show_id\": \"value\"} , axis = 1)\n",
    "ts_show"
   ]
  },
  {
   "cell_type": "code",
   "execution_count": 20,
   "metadata": {},
   "outputs": [
    {
     "data": {
      "text/html": [
       "<div>\n",
       "<style scoped>\n",
       "    .dataframe tbody tr th:only-of-type {\n",
       "        vertical-align: middle;\n",
       "    }\n",
       "\n",
       "    .dataframe tbody tr th {\n",
       "        vertical-align: top;\n",
       "    }\n",
       "\n",
       "    .dataframe thead th {\n",
       "        text-align: right;\n",
       "    }\n",
       "</style>\n",
       "<table border=\"1\" class=\"dataframe\">\n",
       "  <thead>\n",
       "    <tr style=\"text-align: right;\">\n",
       "      <th></th>\n",
       "      <th>value</th>\n",
       "    </tr>\n",
       "    <tr>\n",
       "      <th>date_added</th>\n",
       "      <th></th>\n",
       "    </tr>\n",
       "  </thead>\n",
       "  <tbody>\n",
       "    <tr>\n",
       "      <th>2014-01-31</th>\n",
       "      <td>2</td>\n",
       "    </tr>\n",
       "    <tr>\n",
       "      <th>2014-02-28</th>\n",
       "      <td>1</td>\n",
       "    </tr>\n",
       "    <tr>\n",
       "      <th>2014-03-31</th>\n",
       "      <td>0</td>\n",
       "    </tr>\n",
       "    <tr>\n",
       "      <th>2014-04-30</th>\n",
       "      <td>1</td>\n",
       "    </tr>\n",
       "    <tr>\n",
       "      <th>2014-05-31</th>\n",
       "      <td>0</td>\n",
       "    </tr>\n",
       "    <tr>\n",
       "      <th>...</th>\n",
       "      <td>...</td>\n",
       "    </tr>\n",
       "    <tr>\n",
       "      <th>2019-09-30</th>\n",
       "      <td>96</td>\n",
       "    </tr>\n",
       "    <tr>\n",
       "      <th>2019-10-31</th>\n",
       "      <td>136</td>\n",
       "    </tr>\n",
       "    <tr>\n",
       "      <th>2019-11-30</th>\n",
       "      <td>205</td>\n",
       "    </tr>\n",
       "    <tr>\n",
       "      <th>2019-12-31</th>\n",
       "      <td>179</td>\n",
       "    </tr>\n",
       "    <tr>\n",
       "      <th>2020-01-31</th>\n",
       "      <td>147</td>\n",
       "    </tr>\n",
       "  </tbody>\n",
       "</table>\n",
       "<p>73 rows × 1 columns</p>\n",
       "</div>"
      ],
      "text/plain": [
       "            value\n",
       "date_added       \n",
       "2014-01-31      2\n",
       "2014-02-28      1\n",
       "2014-03-31      0\n",
       "2014-04-30      1\n",
       "2014-05-31      0\n",
       "...           ...\n",
       "2019-09-30     96\n",
       "2019-10-31    136\n",
       "2019-11-30    205\n",
       "2019-12-31    179\n",
       "2020-01-31    147\n",
       "\n",
       "[73 rows x 1 columns]"
      ]
     },
     "execution_count": 20,
     "metadata": {},
     "output_type": "execute_result"
    }
   ],
   "source": [
    "## The data for prediction should start on the end of the dataset. This code block do that\n",
    "start_date = '2014-1-1'\n",
    "mask = (ts_show.index > start_date)\n",
    "ts_show=ts_show.loc[mask]\n",
    "ts_show"
   ]
  },
  {
   "cell_type": "code",
   "execution_count": 21,
   "metadata": {},
   "outputs": [],
   "source": [
    "## Splitting into training and testing\n",
    "train = ts_show[:90]\n",
    "test = ts_show[50:]"
   ]
  },
  {
   "cell_type": "code",
   "execution_count": 22,
   "metadata": {},
   "outputs": [
    {
     "data": {
      "image/png": "[encoded data removed]",
      "text/plain": [
       "<Figure size 840x350 with 1 Axes>"
      ]
     },
     "metadata": {
      "needs_background": "light"
     },
     "output_type": "display_data"
    }
   ],
   "source": [
    "# Build Model\n",
    "model = sm.tsa.arima.ARIMA(train, order=(1,1,1))  \n",
    "fitted = model.fit()  \n",
    "\n",
    "# Forecast\n",
    "fc= fitted.forecast(steps=30, alpha=0.05)  # 95% conf\n",
    "\n",
    "# Make as pandas series\n",
    "fc_series = pd.Series(fc)\n",
    "\n",
    "# Plot\n",
    "plt.figure(figsize=(12,5), dpi=70)\n",
    "plt.plot(train, label='training')\n",
    "plt.plot(test, label='actual')\n",
    "plt.plot(fc_series, label='forecast')\n",
    "plt.title('Forecast vs Actuals')\n",
    "plt.legend(loc='upper left', fontsize=8)\n",
    "plt.show()"
   ]
  },
  {
   "cell_type": "markdown",
   "metadata": {},
   "source": [
    "At the question 5, the researcher used a linear regression in showing what is the overall data for this dataset. In the question 6 it only strengthen the values even more by creating a predicting past over the value given dataset. It is shown that the correlation would be at almost zero and the date of adding to the library and published date is not correlated to each other. What I think as an educated guess is that Netflix will only buy the licensing of the shows & movies when it makes them more revenue. I think that the researchers would want to know the revenue of each shows and the added added date would be have a larger correlation because at the end of the day Netflix is a business and they want revenue for their services."
   ]
  }
 ],
 "metadata": {
  "kernelspec": {
   "display_name": "Python 3.9.12 ('base')",
   "language": "python",
   "name": "python3"
  },
  "language_info": {
   "codemirror_mode": {
    "name": "ipython",
    "version": 3
   },
   "file_extension": ".py",
   "mimetype": "text/x-python",
   "name": "python",
   "nbconvert_exporter": "python",
   "pygments_lexer": "ipython3",
   "version": "3.9.12"
  },
  "orig_nbformat": 4,
  "vscode": {
   "interpreter": {
    "hash": "f28f51b819213f93b610c120b8c68e9f39a02ecaacc6262c7bf377e51dc8effa"
   }
  }
 },
 "nbformat": 4,
 "nbformat_minor": 2
}
