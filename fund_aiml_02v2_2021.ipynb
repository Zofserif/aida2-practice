{
  "cells": [
    {
      "cell_type": "markdown",
      "metadata": {
        "id": "L8pZmxroJS0I"
      },
      "source": [
        "# Topic 02: Review of Linear Algebra\n",
        "$_{\\text{©D.J. Lopez | 2021 | Fudamentals of Machine Learning}}$\n",
        "\n",
        "Linear algebra is undoubtfully one of the foundations of Machine Learning. Through linear algebra, we can perform more optimized techniques in computing an array of numbers wherein mostly used in Machine Learning. In this chapter, we are going to review the concepts, theories, and operations in Linear Algebra that are useful in Machine Learning. For this notebook we will be covering the following topics:\n",
        "* Vector and Matrix Representation\n",
        "* Linear Transformation and Matrix Operations\n",
        "* Vectorization\n"
      ]
    },
    {
      "cell_type": "markdown",
      "metadata": {
        "id": "kZ8ykwKm05jH"
      },
      "source": [
        "# Vector and Matrix Representation\n",
        "\n",
        "Vectors and Matrices are the fundamental objects in Linear Algebra programming. We'll be defining each of these objects specifically in the Computer Science/Engineering perspective since it would be much confusing if we consider their Physics and Pure Mathematics definitions."
      ]
    },
    {
      "cell_type": "markdown",
      "metadata": {
        "id": "NzH9N-yR0--e"
      },
      "source": [
        "## Vectors\n",
        "Vectors are array of numerical values or scalars that would represent any feature space. Feature spaces or simply dimensions or the parameters of an equation or a function.\n",
        "\n",
        "Starting this module we will be using NumPy. NumPy or Numerical Python, is mainly used for matrix and vector operations. It is capable of declaring computing and representing matrices. Most Python scienitifc programming libraries uses NumPy as the basic code.\n"
      ]
    },
    {
      "cell_type": "markdown",
      "metadata": {
        "id": "GHDwqNBv5lYe"
      },
      "source": [
        "Now that you know how to represent vectors using their component and matrix form we can now hard-code them in Python. Let's say that you have the vectors:\n",
        "\n",
        "$$ A = 4\\hat{x} + 3\\hat{y} \\\\\n",
        "B = 2\\hat{x} - 5\\hat{y}$$\n",
        "\n",
        "In which it's matrix equivalent is:\n",
        "$$ A = \\begin{bmatrix} 4 \\\\ 3\\end{bmatrix} , B = \\begin{bmatrix} 2 \\\\ -5\\end{bmatrix}\\\\\n",
        " A = \\begin{bmatrix} 4 & 3\\end{bmatrix} \\\\\n",
        " B = \\begin{bmatrix} 2 & -5\\end{bmatrix} \n",
        "$$"
      ]
    },
    {
      "cell_type": "code",
      "execution_count": 1,
      "metadata": {
        "id": "ZPAW8ycB5vOf"
      },
      "outputs": [
        {
          "name": "stdout",
          "output_type": "stream",
          "text": [
            "Vector A is  [4 3]\n",
            "Vector B is  [ 2 -5]\n"
          ]
        }
      ],
      "source": [
        "import numpy as np\n",
        "import matplotlib.pyplot as plt\n",
        "\n",
        "A = np.array([4,3])\n",
        "B = np.array([2, -5])\n",
        "\n",
        "print('Vector A is ', A)\n",
        "print('Vector B is ', B)"
      ]
    },
    {
      "cell_type": "markdown",
      "metadata": {
        "id": "zXluKqAO1BNe"
      },
      "source": [
        "### Linear Combinations\n",
        "\n",
        "It is said that a linear combination is the combination of linear scaling and addition of a vector its bases/components.\n",
        "We will try to visualize the vectors and their linear combinations by plotting a sample of real number values for the scalars for the vectors. Let's first try the vectors below:\n",
        "$$X = \\begin{bmatrix} 2\\\\5 \\\\\\end{bmatrix} , Y = \\begin{bmatrix} 7\\\\9 \\\\\\end{bmatrix} $$"
      ]
    },
    {
      "cell_type": "code",
      "execution_count": 2,
      "metadata": {
        "id": "M8-B1WX86Dk3"
      },
      "outputs": [],
      "source": [
        "vectX =  np.array([2,5])\n",
        "vectY =  np.array([7,9])"
      ]
    },
    {
      "cell_type": "markdown",
      "metadata": {
        "id": "QcgOgrbTLpPN"
      },
      "source": [
        "Linear combinations usually have a form that takes on.\n",
        "$$a_0x_0+a_1x_1+a_2x_2+...+a_nx_n$$\n",
        "It can then be expressed as the inner product of two vectors.\n",
        "$$\\begin{bmatrix}a_0 \\\\ a_1\\\\a_2 \\\\\\vdots \\\\ a_n\\end{bmatrix} \\cdot \\begin{bmatrix}x_0 \\\\ x_1\\\\x_2 \\\\\\vdots \\\\ x_n\\end{bmatrix}$$"
      ]
    },
    {
      "cell_type": "markdown",
      "metadata": {
        "id": "cSUgshVg1M-P"
      },
      "source": [
        "### Vector Spans and Spaces\n",
        "As discussed in the lecture, the span of individual vectors can be represented by a line span. Let's take vector $X$ as an example.\n",
        "$$X = c\\cdot v $$\n",
        "Where as $c$ is some scalar or range of scalars that represents the scaling factor of a vector and $v$ is any vector. In our example $v$ could be the earlier declared `vectX`.\n",
        "$$X = c\\cdot \\begin{bmatrix} 2\\\\5 \\\\\\end{bmatrix} $$"
      ]
    },
    {
      "cell_type": "code",
      "execution_count": 3,
      "metadata": {
        "id": "3dNPspCF6Rn2"
      },
      "outputs": [
        {
          "data": {
            "image/png": "[encoded data removed]",
            "text/plain": [
              "<Figure size 640x480 with 1 Axes>"
            ]
          },
          "metadata": {},
          "output_type": "display_data"
        }
      ],
      "source": [
        "c = np.arange(-10,10,0.0125)\n",
        "\n",
        "plt.scatter(c*vectX[0],c*vectX[1])\n",
        "\n",
        "plt.xlim(-10,10)\n",
        "plt.ylim(-10,10)\n",
        "plt.axhline(y=0, color='k')\n",
        "plt.axvline(x=0, color='k')\n",
        "plt.grid()\n",
        "plt.show()"
      ]
    },
    {
      "cell_type": "markdown",
      "metadata": {
        "id": "e8TnW4L66aRG"
      },
      "source": [
        "So what if we are to plot the span of a linear combination of vectors? We can visualize as a plane on the 2-dimensional coordinate system. Let's take the span of the linear combination below:\n",
        "\n",
        "$$S = \\begin{Bmatrix} c_1 \\cdot\\begin{bmatrix} 1\\\\0 \\\\\\end{bmatrix}, \n",
        "c_2 \\cdot \\begin{bmatrix} 1\\\\-1 \\\\\\end{bmatrix}\\end{Bmatrix} $$"
      ]
    },
    {
      "cell_type": "code",
      "execution_count": 4,
      "metadata": {
        "id": "MQxLP60f6fVn"
      },
      "outputs": [
        {
          "data": {
            "image/png": "[encoded data removed]",
            "text/plain": [
              "<Figure size 640x480 with 1 Axes>"
            ]
          },
          "metadata": {},
          "output_type": "display_data"
        }
      ],
      "source": [
        "vectA = np.array([1,0])\n",
        "vectB = np.array([1,-1])\n",
        "\n",
        "R = np.arange(-10,10,1)\n",
        "\n",
        "c1, c2 = np.meshgrid(R,R)\n",
        "vectR = vectA + vectB\n",
        "spanRx = c1*vectA[0] + c2*vectB[0]\n",
        "spanRy = c1*vectA[1] + c2*vectB[1]\n",
        "plt.scatter(spanRx,spanRy, s=5, alpha=0.75)\n",
        "\n",
        "plt.axhline(y=0, color='k')\n",
        "plt.axvline(x=0, color='k')\n",
        "plt.grid()\n",
        "plt.show()"
      ]
    },
    {
      "cell_type": "markdown",
      "metadata": {
        "id": "hk1XJ2gZ6j2u"
      },
      "source": [
        "Take note that if vectors are seen to be as a 2-dimensional span we can say it has a Rank of 2 or $\\mathbb{R}^2$. But if the span of the linear combination of vectors are seen to be like a line, they are said to be <b> linearly dependent </b> and they have a rank of 1 or $\\mathbb{R}^1$."
      ]
    },
    {
      "cell_type": "markdown",
      "metadata": {
        "id": "_DI6DA6fJouN"
      },
      "source": [
        "### Inner Product \n",
        "The inner product of a vector results into a scalar value. The purpose of this operation is to know the similarity of two different vectors through directional multiplication. The inner product of two vectors can be represented by the equation:\n",
        "$$\\sum^N_{i=0}u_i\\times v_i$$\n",
        "Whereas $u$ and $v$ are vectors wherein they both have $N$ number of elements. This can be further simplified using the inner product vector form:\n",
        "$$u\\cdot v$$\n",
        "Again still following the rule that $u$ has the same size as $v$.\n"
      ]
    },
    {
      "cell_type": "code",
      "execution_count": 5,
      "metadata": {
        "id": "vI_vkzBqNjX8"
      },
      "outputs": [
        {
          "data": {
            "text/plain": [
              "-1"
            ]
          },
          "execution_count": 5,
          "metadata": {},
          "output_type": "execute_result"
        }
      ],
      "source": [
        "u = np.array([1,2,3])\n",
        "v = np.array([4,2,-3])\n",
        "\n",
        "u_dot_v = u @ v\n",
        "u_dot_v"
      ]
    },
    {
      "cell_type": "markdown",
      "metadata": {
        "id": "XQf8P3Vt1QjO"
      },
      "source": [
        "## Matrices\n",
        "\n",
        "The notation and use of matrices is probably one of the fundamentals of modern computing. Matrices are also handy representations of complex equations or multiple inter-related equations from 2-dimensional equations to even hundreds and thousands of them.\n",
        "\n",
        "Let's say for example you have $A$ and $B$ as system of equation.\n",
        "\n",
        "$$\n",
        "A = \\left\\{\n",
        "    \\begin{array}\\\\\n",
        "        x + y \\\\ \n",
        "        4x - 10y\n",
        "    \\end{array}\n",
        "\\right. \\\\\n",
        "B = \\left\\{\n",
        "    \\begin{array}\\\\\n",
        "        x+y+z \\\\ \n",
        "        3x -2y -z \\\\\n",
        "        -x + 4y +2z\n",
        "    \\end{array}\n",
        "\\right. \n",
        "$$\n",
        "\n",
        "We could see that $A$ is a system of 2 equations with 2 parameters. While $B$ is a system of 3 equations with 3 parameters. We can represent them as matrices as:\n",
        "\n",
        "$$\n",
        "A=\\begin{bmatrix} 1 & 1 \\\\ 4 & {-10}\\end{bmatrix} \\\\\n",
        "B=\\begin{bmatrix} 1 & 1 & 1 \\\\ 3 & -2 & -1 \\\\ -1 & 4 & 2\\end{bmatrix}\n",
        "$$"
      ]
    },
    {
      "cell_type": "markdown",
      "metadata": {
        "id": "KK8zBneJduUH"
      },
      "source": [
        "The entities or numbers in matrices are called the elements of a matrix. These elements are arranged and ordered in rows and columns which form the list/array-like structure of matrices. And just like arrays, these elements are indexed according to their position with respect to their rows and columns. This can be reprsented just like the equation below. Whereas $A$ is a matrix consisting of elements denoted by $a_{i,j}$. Denoted by $i$ is the number of rows in the matrix while $j$ stands for the number of columns.<br>\n",
        "Do note that the $size$ of a matrix is $i\\times j$.\n",
        "\n",
        "$$A=\\begin{bmatrix}\n",
        "a_{(0,0)}&a_{(0,1)}&\\dots&a_{(0,j-1)}\\\\\n",
        "a_{(1,0)}&a_{(1,1)}&\\dots&a_{(1,j-1)}\\\\\n",
        "\\vdots&\\vdots&\\ddots&\\vdots&\\\\\n",
        "a_{(i-1,0)}&a_{(i-1,1)}&\\dots&a_{(i-1,j-1)}\n",
        "\\end{bmatrix}\n",
        "$$"
      ]
    },
    {
      "cell_type": "markdown",
      "metadata": {
        "id": "T13k0Zau1TY2"
      },
      "source": [
        "### Types of Matrices"
      ]
    },
    {
      "cell_type": "markdown",
      "metadata": {
        "id": "DkgGfKYTd-Ey"
      },
      "source": [
        "There are several ways of classifying matrices. Once could be according to their **shape** and another is according to their **element values**. We'll try to go through them."
      ]
    },
    {
      "cell_type": "markdown",
      "metadata": {},
      "source": [
        "#### According to Shape"
      ]
    },
    {
      "cell_type": "code",
      "execution_count": 6,
      "metadata": {},
      "outputs": [],
      "source": [
        "def describe_mat(matrix):\n",
        "    print(f'Matrix:\\n{matrix}\\n\\nShape:\\t{matrix.shape}\\nRank:\\t{matrix.ndim}\\n')"
      ]
    },
    {
      "cell_type": "markdown",
      "metadata": {},
      "source": [
        "##### Row Matrix"
      ]
    },
    {
      "cell_type": "code",
      "execution_count": 7,
      "metadata": {
        "id": "MiTj0qx0eJUy"
      },
      "outputs": [
        {
          "name": "stdout",
          "output_type": "stream",
          "text": [
            "Matrix:\n",
            "[1 3 2]\n",
            "\n",
            "Shape:\t(3,)\n",
            "Rank:\t1\n",
            "\n",
            "Matrix:\n",
            "[[1 2 3]]\n",
            "\n",
            "Shape:\t(1, 3)\n",
            "Rank:\t2\n",
            "\n"
          ]
        }
      ],
      "source": [
        "### According to Shape\n",
        "## Declaring a Row Matrix\n",
        "row_mat_1D = np.array([1, 3, 2]) ## this is a 1-D Matrix with a shape of (3,), it's not really considered as a row matrix.\n",
        "row_mat_2D = np.array([\n",
        "    [1,2,3]\n",
        "    ]) ## this is a 2-D Matrix with a shape of (1,3)\n",
        "describe_mat(row_mat_1D)\n",
        "describe_mat(row_mat_2D)"
      ]
    },
    {
      "cell_type": "markdown",
      "metadata": {},
      "source": [
        "##### Column Matrix"
      ]
    },
    {
      "cell_type": "code",
      "execution_count": 8,
      "metadata": {},
      "outputs": [
        {
          "name": "stdout",
          "output_type": "stream",
          "text": [
            "Matrix:\n",
            "[[1]\n",
            " [2]\n",
            " [5]]\n",
            "\n",
            "Shape:\t(3, 1)\n",
            "Rank:\t2\n",
            "\n"
          ]
        }
      ],
      "source": [
        "## Declaring a Column Matrix\n",
        "col_mat = np.array([\n",
        "    [1],\n",
        "    [2],\n",
        "    [5]\n",
        "]) ## this is a 2-D Matrix with a shape of (3,1)\n",
        "describe_mat(col_mat)"
      ]
    },
    {
      "cell_type": "markdown",
      "metadata": {},
      "source": [
        "##### Square Matrix"
      ]
    },
    {
      "cell_type": "code",
      "execution_count": 9,
      "metadata": {},
      "outputs": [
        {
          "name": "stdout",
          "output_type": "stream",
          "text": [
            "Matrix:\n",
            "[[1 2 5]\n",
            " [3 3 8]\n",
            " [6 1 2]]\n",
            "\n",
            "Shape:\t(3, 3)\n",
            "Is Square: True\n",
            "\n",
            "Matrix:\n",
            "[[1 2 5]\n",
            " [3 3 8]]\n",
            "\n",
            "Shape:\t(2, 3)\n",
            "Is Square: False\n",
            "\n"
          ]
        }
      ],
      "source": [
        "## Declaring a Square Matrix\n",
        "def describe_mat(matrix):\n",
        "    is_square = True if matrix.shape[0] == matrix.shape[1] else False \n",
        "    print(f'Matrix:\\n{matrix}\\n\\nShape:\\t{matrix.shape}\\nIs Square: {is_square}\\n')\n",
        "\n",
        "square_mat = np.array([\n",
        "    [1,2,5],\n",
        "    [3,3,8],\n",
        "    [6,1,2]\n",
        "])\n",
        "\n",
        "non_square_mat = np.array([\n",
        "    [1,2,5],\n",
        "    [3,3,8]\n",
        "])\n",
        "\n",
        "describe_mat(square_mat)\n",
        "describe_mat(non_square_mat)"
      ]
    },
    {
      "cell_type": "markdown",
      "metadata": {},
      "source": [
        "#### According to Element Values"
      ]
    },
    {
      "cell_type": "code",
      "execution_count": 10,
      "metadata": {
        "id": "DfGr9fC5eLiu"
      },
      "outputs": [],
      "source": [
        "### According to Values\n",
        "##Declaring a Null Matrix\n",
        "def describe_mat(matrix):\n",
        "    if matrix.size > 0:\n",
        "        is_square = True if matrix.shape[0] == matrix.shape[1] else False \n",
        "        print(f'Matrix:\\n{matrix}\\n\\nShape:\\t{matrix.shape}\\nIs Square: {is_square}\\n')\n",
        "    else:\n",
        "        print('Matrix is Null')\n"
      ]
    },
    {
      "cell_type": "markdown",
      "metadata": {},
      "source": [
        "#### Null Matrix"
      ]
    },
    {
      "cell_type": "code",
      "execution_count": 11,
      "metadata": {},
      "outputs": [
        {
          "name": "stdout",
          "output_type": "stream",
          "text": [
            "Matrix is Null\n"
          ]
        }
      ],
      "source": [
        "null_mat = np.array([])\n",
        "describe_mat(null_mat)"
      ]
    },
    {
      "cell_type": "markdown",
      "metadata": {},
      "source": [
        "##### Zero Matrix"
      ]
    },
    {
      "cell_type": "code",
      "execution_count": 12,
      "metadata": {},
      "outputs": [
        {
          "name": "stdout",
          "output_type": "stream",
          "text": [
            "Zero Row Matrix: \n",
            "[[0. 0.]]\n",
            "Zero Square Matrix: \n",
            "[[0. 0.]\n",
            " [0. 0.]]\n",
            "Zero Rectangular Matrix: \n",
            "[[0. 0.]\n",
            " [0. 0.]\n",
            " [0. 0.]]\n"
          ]
        }
      ],
      "source": [
        "zero_mat_row = np.zeros((1,2))\n",
        "zero_mat_sqr = np.zeros((2,2))\n",
        "zero_mat_rct = np.zeros((3,2))\n",
        "\n",
        "print(f'Zero Row Matrix: \\n{zero_mat_row}')\n",
        "print(f'Zero Square Matrix: \\n{zero_mat_sqr}')\n",
        "print(f'Zero Rectangular Matrix: \\n{zero_mat_rct}')"
      ]
    },
    {
      "cell_type": "markdown",
      "metadata": {},
      "source": [
        "##### Ones Matrix"
      ]
    },
    {
      "cell_type": "code",
      "execution_count": 13,
      "metadata": {},
      "outputs": [
        {
          "name": "stdout",
          "output_type": "stream",
          "text": [
            "Ones Row Matrix: \n",
            "[[1. 1.]]\n",
            "Ones Square Matrix: \n",
            "[[1. 1.]\n",
            " [1. 1.]]\n",
            "Ones Rectangular Matrix: \n",
            "[[1. 1.]\n",
            " [1. 1.]\n",
            " [1. 1.]]\n"
          ]
        }
      ],
      "source": [
        "ones_mat_row = np.ones((1,2))\n",
        "ones_mat_sqr = np.ones((2,2))\n",
        "ones_mat_rct = np.ones((3,2))\n",
        "\n",
        "print(f'Ones Row Matrix: \\n{ones_mat_row}')\n",
        "print(f'Ones Square Matrix: \\n{ones_mat_sqr}')\n",
        "print(f'Ones Rectangular Matrix: \\n{ones_mat_rct}')"
      ]
    },
    {
      "cell_type": "markdown",
      "metadata": {},
      "source": [
        "##### Diagonal Matrix"
      ]
    },
    {
      "cell_type": "code",
      "execution_count": 14,
      "metadata": {},
      "outputs": [
        {
          "data": {
            "text/plain": [
              "array([[2, 0, 0],\n",
              "       [0, 3, 0],\n",
              "       [0, 0, 5]])"
            ]
          },
          "execution_count": 14,
          "metadata": {},
          "output_type": "execute_result"
        }
      ],
      "source": [
        "np.array([\n",
        "    [2,0,0],\n",
        "    [0,3,0],\n",
        "    [0,0,5]\n",
        "])\n",
        "# a[1,1], a[2,2], a[3,3], ... a[n-1,n-1]\n"
      ]
    },
    {
      "cell_type": "code",
      "execution_count": 15,
      "metadata": {},
      "outputs": [
        {
          "data": {
            "text/plain": [
              "False"
            ]
          },
          "execution_count": 15,
          "metadata": {},
          "output_type": "execute_result"
        }
      ],
      "source": [
        "d = np.diag([2,3,5,7])\n",
        "np.diag(d).shape == d.shape[0] == d.shape[1]"
      ]
    },
    {
      "cell_type": "code",
      "execution_count": 16,
      "metadata": {},
      "outputs": [
        {
          "data": {
            "text/plain": [
              "True"
            ]
          },
          "execution_count": 16,
          "metadata": {},
          "output_type": "execute_result"
        }
      ],
      "source": [
        "d_true = np.array([\n",
        "    [2,0,0],\n",
        "    [0,3,0],\n",
        "    [0,0,5]\n",
        "])\n",
        "\n",
        "i, j = np.nonzero(d_true) \n",
        "# print(i)\n",
        "# print(j)\n",
        "np.all(i == j)\n"
      ]
    },
    {
      "cell_type": "code",
      "execution_count": 17,
      "metadata": {},
      "outputs": [
        {
          "data": {
            "text/plain": [
              "False"
            ]
          },
          "execution_count": 17,
          "metadata": {},
          "output_type": "execute_result"
        }
      ],
      "source": [
        "d_false = np.array([\n",
        "    [2,0,0],\n",
        "    [0,3,0],\n",
        "    [1,0,5]\n",
        "])\n",
        "i, j = np.nonzero(d_false) \n",
        "np.all(i == j)"
      ]
    },
    {
      "cell_type": "markdown",
      "metadata": {},
      "source": [
        "##### Identity Matrix"
      ]
    },
    {
      "cell_type": "code",
      "execution_count": 18,
      "metadata": {},
      "outputs": [
        {
          "data": {
            "text/plain": [
              "array([[1., 0., 0., 0., 0.],\n",
              "       [0., 1., 0., 0., 0.],\n",
              "       [0., 0., 1., 0., 0.],\n",
              "       [0., 0., 0., 1., 0.],\n",
              "       [0., 0., 0., 0., 1.]])"
            ]
          },
          "execution_count": 18,
          "metadata": {},
          "output_type": "execute_result"
        }
      ],
      "source": [
        "np.eye(5)\n",
        "# np.identity(5)"
      ]
    },
    {
      "cell_type": "markdown",
      "metadata": {},
      "source": [
        "##### Upper Triangular Matrix"
      ]
    },
    {
      "cell_type": "code",
      "execution_count": 19,
      "metadata": {},
      "outputs": [
        {
          "data": {
            "text/plain": [
              "array([[1, 2, 3],\n",
              "       [0, 3, 1],\n",
              "       [0, 0, 5]])"
            ]
          },
          "execution_count": 19,
          "metadata": {},
          "output_type": "execute_result"
        }
      ],
      "source": [
        "np.array([\n",
        "    [1,2,3],\n",
        "    [0,3,1],\n",
        "    [0,0,5]\n",
        "])\n"
      ]
    },
    {
      "cell_type": "markdown",
      "metadata": {},
      "source": [
        "##### Lower Triangular Matrix"
      ]
    },
    {
      "cell_type": "code",
      "execution_count": 20,
      "metadata": {},
      "outputs": [
        {
          "data": {
            "text/plain": [
              "array([[1, 0, 0],\n",
              "       [5, 3, 0],\n",
              "       [7, 8, 5]])"
            ]
          },
          "execution_count": 20,
          "metadata": {},
          "output_type": "execute_result"
        }
      ],
      "source": [
        "np.array([\n",
        "    [1,0,0],\n",
        "    [5,3,0],\n",
        "    [7,8,5]\n",
        "])"
      ]
    },
    {
      "cell_type": "markdown",
      "metadata": {
        "id": "m-pYWJOJ1qvo"
      },
      "source": [
        "# Matrix Operations"
      ]
    },
    {
      "cell_type": "markdown",
      "metadata": {
        "id": "1x8yHxuv1tbm"
      },
      "source": [
        "### Arithmetic in Matrices"
      ]
    },
    {
      "cell_type": "code",
      "execution_count": 21,
      "metadata": {},
      "outputs": [],
      "source": [
        "A = np.array([\n",
        "    [1,2],\n",
        "    [2,3],\n",
        "    [4,1]\n",
        "])\n",
        "B = np.array([\n",
        "    [2,2],\n",
        "    [0,0],\n",
        "    [1,1]\n",
        "])"
      ]
    },
    {
      "cell_type": "markdown",
      "metadata": {},
      "source": [
        "#### Addition"
      ]
    },
    {
      "cell_type": "code",
      "execution_count": 22,
      "metadata": {},
      "outputs": [
        {
          "data": {
            "text/plain": [
              "array([[3, 4],\n",
              "       [2, 3],\n",
              "       [5, 2]])"
            ]
          },
          "execution_count": 22,
          "metadata": {},
          "output_type": "execute_result"
        }
      ],
      "source": [
        "A+B"
      ]
    },
    {
      "cell_type": "markdown",
      "metadata": {},
      "source": [
        "#### Subtraction"
      ]
    },
    {
      "cell_type": "code",
      "execution_count": 23,
      "metadata": {},
      "outputs": [
        {
          "data": {
            "text/plain": [
              "array([[-1,  0],\n",
              "       [ 2,  3],\n",
              "       [ 3,  0]])"
            ]
          },
          "execution_count": 23,
          "metadata": {},
          "output_type": "execute_result"
        }
      ],
      "source": [
        "A-B"
      ]
    },
    {
      "cell_type": "markdown",
      "metadata": {},
      "source": [
        "#### Element-Wise Multiplication"
      ]
    },
    {
      "cell_type": "code",
      "execution_count": 24,
      "metadata": {},
      "outputs": [
        {
          "data": {
            "text/plain": [
              "array([[2, 4],\n",
              "       [0, 0],\n",
              "       [4, 1]])"
            ]
          },
          "execution_count": 24,
          "metadata": {},
          "output_type": "execute_result"
        }
      ],
      "source": [
        "A*B"
      ]
    },
    {
      "cell_type": "markdown",
      "metadata": {},
      "source": [
        "#### Division"
      ]
    },
    {
      "cell_type": "code",
      "execution_count": 25,
      "metadata": {
        "id": "fcSfOsYmeUlC"
      },
      "outputs": [
        {
          "name": "stderr",
          "output_type": "stream",
          "text": [
            "C:\\Users\\Moyk\\AppData\\Local\\Temp\\ipykernel_3680\\3449860715.py:1: RuntimeWarning: divide by zero encountered in divide\n",
            "  np.divide(A,B)\n"
          ]
        },
        {
          "data": {
            "text/plain": [
              "array([[0.5, 1. ],\n",
              "       [inf, inf],\n",
              "       [4. , 1. ]])"
            ]
          },
          "execution_count": 25,
          "metadata": {},
          "output_type": "execute_result"
        }
      ],
      "source": [
        "np.divide(A,B)"
      ]
    },
    {
      "cell_type": "markdown",
      "metadata": {
        "id": "JdVQXwYR1wkW"
      },
      "source": [
        "### Dot Product\n",
        "If you recall the dot product from laboratory activity before, we will try to implement the same operation with matrices. In matrix dot product we are going to get the sum of products of the vectors by row-column pairs. So if we have two matrices $X$ and $Y$:\n",
        "\n",
        "$$X = \\begin{bmatrix}x_{(0,0)}&x_{(0,1)}\\\\ x_{(1,0)}&x_{(1,1)}\\end{bmatrix}, Y = \\begin{bmatrix}y_{(0,0)}&y_{(0,1)}\\\\ y_{(1,0)}&y_{(1,1)}\\end{bmatrix}$$\n",
        "\n",
        "The dot product will then be computed as:\n",
        "$$X \\cdot Y= \\begin{bmatrix} x_{(0,0)}*y_{(0,0)} + x_{(0,1)}*y_{(1,0)} & x_{(0,0)}*y_{(0,1)} + x_{(0,1)}*y_{(1,1)} \\\\  x_{(1,0)}*y_{(0,0)} + x_{(1,1)}*y_{(1,0)} & x_{(1,0)}*y_{(0,1)} + x_{(1,1)}*y_{(1,1)}\n",
        "\\end{bmatrix}$$\n",
        "\n",
        "So if we assign values to $X$ and $Y$:\n",
        "$$X = \\begin{bmatrix}1&2\\\\ 0&1\\end{bmatrix}, Y = \\begin{bmatrix}-1&0\\\\ 2&2\\end{bmatrix}$$\n",
        "$$X \\cdot Y= \\begin{bmatrix} 1*-1 + 2*2 & 1*0 + 2*2 \\\\  0*-1 + 1*2 & 0*0 + 1*2 \\end{bmatrix} = \\begin{bmatrix} 3 & 4 \\\\2 & 2 \\end{bmatrix}$$\n",
        "This could be achieved programmatically using `np.dot()`, `np.matmul()` or the `@` operator."
      ]
    },
    {
      "cell_type": "code",
      "execution_count": 26,
      "metadata": {
        "id": "Sq-hZQcieVbS"
      },
      "outputs": [
        {
          "data": {
            "text/plain": [
              "array([[3, 4],\n",
              "       [2, 2]])"
            ]
          },
          "execution_count": 26,
          "metadata": {},
          "output_type": "execute_result"
        }
      ],
      "source": [
        "X = np.array([\n",
        "    [1,2],\n",
        "    [0,1]\n",
        "    ])\n",
        "Y = np.array([\n",
        "    [-1,0],\n",
        "    [2,2]\n",
        "])\n",
        "\n",
        "X@Y"
      ]
    },
    {
      "cell_type": "markdown",
      "metadata": {
        "id": "tVyob-m-1zom"
      },
      "source": [
        "### Transposition\n",
        "One of the fundamental operations in matrix algebra is Transposition. The transpose of a matrix is done by flipping the values of its elements over its diagonals. With this, the rows and columns from the original matrix will be switched. So for a matrix $A$ its transpose is denoted as $A^T$. "
      ]
    },
    {
      "cell_type": "code",
      "execution_count": 27,
      "metadata": {
        "id": "pA2mOsfKeXAK"
      },
      "outputs": [
        {
          "data": {
            "text/plain": [
              "array([[-1,  2,  9],\n",
              "       [ 0,  6,  7],\n",
              "       [ 3,  3,  4]])"
            ]
          },
          "execution_count": 27,
          "metadata": {},
          "output_type": "execute_result"
        }
      ],
      "source": [
        "A = np.array([\n",
        "    [-1,0,3],\n",
        "    [2,6,3],\n",
        "    [9,7,4]\n",
        "])\n",
        "\n",
        "A.transpose()"
      ]
    },
    {
      "cell_type": "markdown",
      "metadata": {
        "id": "NCkgu7MleyEz"
      },
      "source": [
        "### Inversion\n",
        "The inverse of a matrix is another fundamental operation in matrix algebra. Determining the inverse of a matrix let us determine if its solvability and its characteristic as a system of linear equation — we'll expand on this in the nect module. Another use of the inverse matrix is solving the problem of divisibility between matrices. Although element-wise division exists but dividing the entire concept of matrices does not exists. Inverse matrices provides a related operation that could have the same concept of \"dividing\" matrices.\n",
        "\n",
        "Now to determine the inverse of a matrix we need to perform several steps. So let's say we have a matrix $M$:\n",
        "$$M = \\begin{bmatrix}1&7\\\\-3&5\\end{bmatrix}$$\n",
        "First, we need to get the determinant of $M$.\n",
        "$$|M| = (1)(5)-(-3)(7) = 26$$\n",
        "Next, we need to reform the matrix into the inverse form:\n",
        "$$M^{-1} = \\frac{1}{|M|} \\begin{bmatrix} m_{(1,1)} & -m_{(0,1)} \\\\ -m_{(1,0)} & m_{(0,0)}\\end{bmatrix}$$\n",
        "So that will be:\n",
        "$$M^{-1} = \\frac{1}{26} \\begin{bmatrix} 5 & -7 \\\\ 3 & 1\\end{bmatrix} = \\begin{bmatrix} \\frac{5}{26} & \\frac{-7}{26} \\\\ \\frac{3}{26} & \\frac{1}{26}\\end{bmatrix}$$\n",
        "For higher-dimension matrices you might need to use co-factors, minors, adjugates, and other reduction techinques. To solve this programmatially we can use `np.linalg.inv()`."
      ]
    },
    {
      "cell_type": "markdown",
      "metadata": {
        "id": "UsP1eT7m3QDO"
      },
      "source": [
        "### Determinants\n",
        "Determinants are special values produced from matrix analysis. Detemrinants tell us the ratio of the values of the subspaces of the matrix. It further explains whether matrices are singular."
      ]
    },
    {
      "cell_type": "code",
      "execution_count": 28,
      "metadata": {
        "id": "tZM5gc31eXry"
      },
      "outputs": [
        {
          "data": {
            "text/plain": [
              "-2.0000000000000004"
            ]
          },
          "execution_count": 28,
          "metadata": {},
          "output_type": "execute_result"
        }
      ],
      "source": [
        "a = np.array([\n",
        "    [1, 2], \n",
        "    [3, 4]]) \n",
        "np.linalg.det(a)"
      ]
    },
    {
      "cell_type": "markdown",
      "metadata": {
        "id": "UPOqh4Y5gQrj"
      },
      "source": [
        "#Eigenvalues\n",
        "<b>Eigen</b> does not denote famous actors but rather coming from a German etymology meining \"characteristic\". So we can say in analogy, that solving for the <b>eigen</b> of anything is finiding their characteristics.\n",
        "\n",
        "Referring to our definition of eigen earlier, we can deduct that eigenvectors are characteristic vectors or representative vectors of a matrix. In the more technical sense, these are vectors that can be considered constant/unchanging even when a linear transformation. So whether if we do any geometric translation, that vector in the span of the matrix will not translate to a different vector but rather just scale —meaning it is linearly dependent from its original vector.\n",
        "\n",
        "So for example we'll have a matrix $x$ wherein we apply a matrix transformation $F$ it gives us a resulting vector $A$.\n",
        "$$F\\cdot x = A$$\n",
        "So in matrix $x$ there would exist a vector $v$ upond having a reultant matrix $A$ it will just be a scalar transform of itself (eigenvector). We can denote the scaling factor as $\\lambda$. We can then define the eigenvector as:\n",
        "$$A\\cdot v = \\lambda * v$$"
      ]
    },
    {
      "cell_type": "code",
      "execution_count": 29,
      "metadata": {
        "id": "8z3w-uVYhLIq"
      },
      "outputs": [],
      "source": [
        "def plot_quiv(x,y=None,eig=None):\n",
        "    size= (5,5)\n",
        "    plt.figure(figsize=(4,4))\n",
        "          \n",
        "    plt.xlim(-size[0],size[0])\n",
        "    plt.ylim(-size[1],size[1])\n",
        "    plt.xticks(np.arange((-size[0]), size[0]+1, 1.0))\n",
        "    plt.yticks(np.arange((-size[1]), size[1]+1, 1.0))\n",
        "    \n",
        "    plt.quiver([0,0],[0,0], x[0,:], x[1,:], \n",
        "               angles='xy', scale_units='xy',scale=1, \n",
        "               color=['red','red'], label='Original Vector')## use column spaces\n",
        "    if y is not None:\n",
        "        plt.quiver([0,0],[0,0], y[0,:], y[1,:], \n",
        "               angles='xy', scale_units='xy',scale=1, \n",
        "               color=['blue','blue'], label='Transformed Vector')## use column spaces\n",
        "    if eig is not None:\n",
        "        c = np.arange(-10,10,0.25)\n",
        "#         plt.plot(c*eig[0,0],c*eig[1,0], color='orange') \n",
        "        plt.plot(c*eig[0,1], c*eig[1,1], color='orange', label='Eigenspace') \n",
        "        plt.plot(c*eig[0,0],c*eig[1,0], color='orange') \n",
        "        \n",
        "        plt.plot(c*eig[0,0], c*eig[0,1], color='orange', label='Eigenspace') \n",
        "        plt.plot(c*eig[1,0],c*eig[1,1], color='orange') \n",
        "\n",
        "        \n",
        "    plt.grid()\n",
        "    plt.legend()\n",
        "    plt.show()"
      ]
    },
    {
      "cell_type": "code",
      "execution_count": 30,
      "metadata": {
        "id": "Kx2WD1IehVVS"
      },
      "outputs": [
        {
          "data": {
            "image/png": "[encoded data removed]",
            "text/plain": [
              "<Figure size 400x400 with 1 Axes>"
            ]
          },
          "metadata": {},
          "output_type": "display_data"
        }
      ],
      "source": [
        "## Let's try to determine that manually\n",
        "x = np.array([\n",
        "    [1,-1],\n",
        "    [0,2]\n",
        "])\n",
        "plot_quiv(x)"
      ]
    },
    {
      "cell_type": "code",
      "execution_count": 31,
      "metadata": {
        "id": "H_PxRDxrhYrE"
      },
      "outputs": [
        {
          "name": "stdout",
          "output_type": "stream",
          "text": [
            "[[2. 1.]\n",
            " [0. 2.]]\n"
          ]
        },
        {
          "data": {
            "image/png": "[encoded data removed]",
            "text/plain": [
              "<Figure size 400x400 with 1 Axes>"
            ]
          },
          "metadata": {},
          "output_type": "display_data"
        }
      ],
      "source": [
        "F = np.array([\n",
        "    [2, 1.5],\n",
        "    [0, 1]\n",
        "])\n",
        "A = F@x\n",
        "print(A)\n",
        "plot_quiv(x,A)"
      ]
    },
    {
      "cell_type": "markdown",
      "metadata": {
        "id": "fdRHgStThckC"
      },
      "source": [
        "In the linear transformation above, we can see that the first vector (red) did not shift or rotate to any other coordinate in the 2D space. We can say that the first vector is an eigenvector since it remains on its span even if a linear transformation is applied. But do note there could be more than one eigenvector for a matrix, and most of the times these vectors cannot be identified through visual inspection. We can try to solve this using the formula we set above.\n",
        "$$(A \\cdot v) - (\\lambda * v) = 0 $$\n",
        "$$(A-\\lambda)\\cdot v = 0$$\n",
        "Assuming that $v$ is non-zero, well try to solve for $A-\\lambda$ in which it will equate to 0. Take note that $A$ is a vector and $\\lambda$ is a scalar. "
      ]
    },
    {
      "cell_type": "code",
      "execution_count": 32,
      "metadata": {
        "id": "ErTkUPzXho9B"
      },
      "outputs": [],
      "source": [
        "def plot_tr_eig(inp, trans, eig, q1=False):\n",
        "    c1 = np.arange(-5, 5, 0.5)\n",
        "    c2 = np.arange(-5, 5, 0.5)\n",
        "    if q1:\n",
        "        c1 = np.arange(0, 5, 0.5)\n",
        "        c2 = np.arange(0, 5, 0.5)    \n",
        "    X,Y= np.meshgrid(c1, c2)\n",
        "    v = np.array([X.flatten(),Y.flatten()])\n",
        "    A = F@inp@v   \n",
        "\n",
        "    fig, ax = plt.subplots()    \n",
        "    size= (5,5)\n",
        "    fig.set_size_inches(10,10)\n",
        "          \n",
        "    ax.set_xlim(-size[0],size[0])\n",
        "    ax.set_ylim(-size[1],size[1])\n",
        "    ax.set_xticks(np.arange((-size[0]), size[0]+1, 1.0))\n",
        "    ax.set_yticks(np.arange((-size[1]), size[1]+1, 1.0))    \n",
        "    if q1:\n",
        "        ax.set_xlim(0,size[0])\n",
        "        ax.set_ylim(0,size[1])\n",
        "        ax.set_xticks(np.arange(0, size[0]+1, 1.0))\n",
        "        ax.set_yticks(np.arange(0, size[1]+1, 1.0))\n",
        "    q = ax.quiver(X, Y,\n",
        "                  A[0,:].reshape(int(np.sqrt(A[0,:].size)), int(np.sqrt(A[0,:].size))), \n",
        "                  A[1,:].reshape(int(np.sqrt(A[1,:].size)), int(np.sqrt(A[1,:].size))),\n",
        "                 color='royalblue')\n",
        "    ax.quiverkey(q, X=0.3, Y=1.1, U=10,\n",
        "                 label='Quiver key, length = 10', labelpos='E')    \n",
        "    if eig is not None:\n",
        "        c = np.arange(-20,20,0.25)\n",
        "        plt.plot(c*eig[0,1],c*eig[0,0], color='orange') \n",
        "        plt.plot(c*eig[1,1], c*eig[1,0], color='orange', label='Eigenvector') \n",
        "\n",
        "    plt.show()"
      ]
    },
    {
      "cell_type": "code",
      "execution_count": 33,
      "metadata": {
        "id": "HHoekSgRhrS1"
      },
      "outputs": [
        {
          "data": {
            "image/png": "[encoded data removed]",
            "text/plain": [
              "<Figure size 1000x1000 with 1 Axes>"
            ]
          },
          "metadata": {},
          "output_type": "display_data"
        }
      ],
      "source": [
        "x = np.array([\n",
        "    [1,0],\n",
        "    [0,1]\n",
        "])\n",
        "F = np.array([\n",
        "    [-1,2],\n",
        "    [0,2]\n",
        "])\n",
        "eigval, eigvect = np.linalg.eig(F@x)\n",
        "plot_tr_eig(x,F,eigvect)"
      ]
    },
    {
      "cell_type": "markdown",
      "metadata": {
        "id": "IUNPt6GK3nx3"
      },
      "source": [
        "## Special Matrix Properties\n",
        "Further from the theories discussed in this notebook, we will look further in analyzing matrices with the special properties they hold."
      ]
    },
    {
      "cell_type": "markdown",
      "metadata": {
        "id": "59bEkjNh39dd"
      },
      "source": [
        "### Singular Matrices/Vectors\n",
        "Singular matrices or vectors are said to converge or collapse on a dimension existing on its vector space. This can be further explain by the **Rank** of a matrix."
      ]
    },
    {
      "cell_type": "code",
      "execution_count": 34,
      "metadata": {},
      "outputs": [],
      "source": [
        "from numpy.linalg import matrix_rank"
      ]
    },
    {
      "cell_type": "code",
      "execution_count": 35,
      "metadata": {
        "id": "ajU5m6abfoai"
      },
      "outputs": [
        {
          "data": {
            "text/plain": [
              "0"
            ]
          },
          "execution_count": 35,
          "metadata": {},
          "output_type": "execute_result"
        }
      ],
      "source": [
        "### Rank 0 matrices\n",
        "RankZero = np.zeros((4,))\n",
        "matrix_rank(np.zeros((4,)))"
      ]
    },
    {
      "cell_type": "code",
      "execution_count": 36,
      "metadata": {
        "id": "wIDwlQMDfqi8"
      },
      "outputs": [
        {
          "data": {
            "text/plain": [
              "1"
            ]
          },
          "execution_count": 36,
          "metadata": {},
          "output_type": "execute_result"
        }
      ],
      "source": [
        "### Rank 1 Matrices\n",
        "RankOne = np.ones((4,))\n",
        "matrix_rank(np.ones((4,)))"
      ]
    },
    {
      "cell_type": "code",
      "execution_count": 37,
      "metadata": {
        "id": "iUQ-w8JAfuUa"
      },
      "outputs": [
        {
          "data": {
            "text/plain": [
              "2"
            ]
          },
          "execution_count": 37,
          "metadata": {},
          "output_type": "execute_result"
        }
      ],
      "source": [
        "### Rank 2 Matrices\n",
        "RankTwo = np.array([\n",
        "    [1,0,0],\n",
        "    [0,1,0],\n",
        "    [0,0,0],\n",
        "    ])\n",
        "matrix_rank(RankTwo)"
      ]
    },
    {
      "cell_type": "code",
      "execution_count": 44,
      "metadata": {
        "id": "UBiO16E6fxhJ"
      },
      "outputs": [
        {
          "data": {
            "text/plain": [
              "4"
            ]
          },
          "execution_count": 44,
          "metadata": {},
          "output_type": "execute_result"
        }
      ],
      "source": [
        "### Rank N and N-1 Matrices\n",
        "RankN = np.eye((4))\n",
        "matrix_rank(RankN)"
      ]
    },
    {
      "cell_type": "code",
      "execution_count": 39,
      "metadata": {},
      "outputs": [
        {
          "data": {
            "text/plain": [
              "3"
            ]
          },
          "execution_count": 39,
          "metadata": {},
          "output_type": "execute_result"
        }
      ],
      "source": [
        "N = np.eye(4); N[-1,-1] = 0\n",
        "matrix_rank(N)"
      ]
    },
    {
      "cell_type": "markdown",
      "metadata": {
        "id": "xymOswUX4BZZ"
      },
      "source": [
        "### Symmetric Vectors\n",
        "Symmetric vectors are defined as matrices that are equal to themselves even after transposition:\n",
        "$$A = A^T$$"
      ]
    },
    {
      "cell_type": "code",
      "execution_count": 40,
      "metadata": {},
      "outputs": [
        {
          "data": {
            "text/plain": [
              "array([[ 1,  1, -1],\n",
              "       [ 1,  2,  0],\n",
              "       [-1,  0,  5]])"
            ]
          },
          "execution_count": 40,
          "metadata": {},
          "output_type": "execute_result"
        }
      ],
      "source": [
        "A = np.array([\n",
        "    [ 1, 1,-1],\n",
        "    [ 1, 2, 0],\n",
        "    [-1, 0, 5]\n",
        "])  \n",
        "\n",
        "A.transpose()"
      ]
    },
    {
      "cell_type": "markdown",
      "metadata": {
        "id": "lSjqM3ap4GvW"
      },
      "source": [
        "### Invertible Matrices\n",
        "Invertible matrices are square matrices wherein its inverse exists. A matrix is said to be invertible if it is not singular."
      ]
    },
    {
      "cell_type": "markdown",
      "metadata": {},
      "source": [
        "#### Conditions for Invertible Matrix\n",
        "$$det(A) ≠ 0$$\n",
        "$$and$$\n",
        "$$AA^{-1} = I$$"
      ]
    },
    {
      "cell_type": "code",
      "execution_count": 46,
      "metadata": {},
      "outputs": [
        {
          "name": "stdout",
          "output_type": "stream",
          "text": [
            "Matrix is invertible \n",
            "Identity Matrix:\n",
            " [[ 1.  0.]\n",
            " [-0.  1.]]\n"
          ]
        }
      ],
      "source": [
        "InvMat = np.array([\n",
        "    [4,2],\n",
        "    [1,3],\n",
        "    ])\n",
        "    \n",
        "\n",
        "if np.linalg.det(InvMat) != 0: # if determinant is no equal to 0\n",
        "    print(\"Matrix is invertible \\nIdentity Matrix:\\n \" + str(np.round(InvMat @ np.linalg.inv(InvMat)))) # then matrix is invertible + AA^-1 - identity matrix\n",
        "else:\n",
        "    print(\"Matrix is non invertible\")\n"
      ]
    },
    {
      "cell_type": "code",
      "execution_count": 45,
      "metadata": {},
      "outputs": [
        {
          "name": "stdout",
          "output_type": "stream",
          "text": [
            "Matrix is invertible \n",
            "Identity Matrix:\n",
            " [[1. 0. 0.]\n",
            " [0. 1. 0.]\n",
            " [0. 0. 1.]]\n"
          ]
        }
      ],
      "source": [
        "InvMat = np.array([\n",
        "    [1,2,-1],\n",
        "    [-2,0,1],\n",
        "    [1,-1,0]\n",
        "    ])\n",
        "\n",
        "if np.linalg.det(InvMat) != 0: # if determinant is no equal to 0\n",
        "    print(\"Matrix is invertible \\nIdentity Matrix:\\n \" + str(np.round(InvMat @ np.linalg.inv(InvMat)))) # then matrix is invertible + AA^-1 - identity matrix\n",
        "else:\n",
        "    print(\"Matrix is non invertible\")"
      ]
    },
    {
      "cell_type": "code",
      "execution_count": 47,
      "metadata": {},
      "outputs": [
        {
          "name": "stdout",
          "output_type": "stream",
          "text": [
            "Matrix is non invertible\n"
          ]
        }
      ],
      "source": [
        "NonInvMat = np.array([\n",
        "    [1,0,0],\n",
        "    [0,1,0],\n",
        "    [0,0,0]\n",
        "    ])\n",
        "\n",
        "if np.linalg.det(InvMat) != 0:\n",
        "    print(\"Matrix is invertible \\nIdentity Matrix:\\n \" + str(np.round(InvMat @ np.linalg.inv(InvMat))))\n",
        "else:\n",
        "    print(\"Matrix is non invertible\")\n"
      ]
    },
    {
      "cell_type": "markdown",
      "metadata": {
        "id": "wPhDgXQ0irYy"
      },
      "source": [
        "\n",
        "\n",
        "---\n",
        "**END OF LABORATORY**\n",
        "\n",
        "---\n"
      ]
    }
  ],
  "metadata": {
    "colab": {
      "collapsed_sections": [
        "6Xl67Tc7ZHNG"
      ],
      "name": "fund-aiml-02v2-2021.ipynb",
      "provenance": []
    },
    "kernelspec": {
      "display_name": "Python 3.10.6 64-bit",
      "language": "python",
      "name": "python3"
    },
    "language_info": {
      "codemirror_mode": {
        "name": "ipython",
        "version": 3
      },
      "file_extension": ".py",
      "mimetype": "text/x-python",
      "name": "python",
      "nbconvert_exporter": "python",
      "pygments_lexer": "ipython3",
      "version": "3.10.6"
    },
    "vscode": {
      "interpreter": {
        "hash": "2ac5dab0fb930474b2ff4ad82e2109af534d094b7588eaf8ed7d191f76c0a62e"
      }
    }
  },
  "nbformat": 4,
  "nbformat_minor": 0
}
