{
 "cells": [
  {
   "cell_type": "code",
   "execution_count": 2,
   "metadata": {},
   "outputs": [],
   "source": [
    "import numpy as np\n",
    "import math"
   ]
  },
  {
   "cell_type": "markdown",
   "metadata": {},
   "source": [
    "###### A. Identify whether Matrix A is linearly dependent or independent. Provide necessary formal or mathematical proof for your claims."
   ]
  },
  {
   "cell_type": "markdown",
   "metadata": {},
   "source": [
    "$$A = \\dfrac{1}{\\sqrt{2}} e^{\\theta i} \\begin{bmatrix}\n",
    "1 && -2 && -1\\\\ \n",
    "-0.5 && 1 && 0.5\\\\\n",
    "1 && -2 && -1\n",
    "\\end{bmatrix}$$"
   ]
  },
  {
   "cell_type": "code",
   "execution_count": 3,
   "metadata": {},
   "outputs": [],
   "source": [
    "A_mat = np.array([  [1,-2,-1],\n",
    "                    [-0.5,-1,0.5],\n",
    "                    [1,-2,-1]])"
   ]
  },
  {
   "cell_type": "code",
   "execution_count": 4,
   "metadata": {},
   "outputs": [
    {
     "name": "stdout",
     "output_type": "stream",
     "text": [
      "The matrix is independent\n",
      "\n",
      "\n",
      "The mathematical proof\n",
      "I:  [ 1.  -0.5  1. ]\n",
      "J:  [-2. -1. -2.]\n",
      "Prod:  -3.5\n",
      "Norm i:  1.5\n",
      "Norm j:  3.0\n",
      "Independent\n",
      "I:  [ 1.  -0.5  1. ]\n",
      "J:  [-1.   0.5 -1. ]\n",
      "Prod:  -2.25\n",
      "Norm i:  1.5\n",
      "Norm j:  1.5\n",
      "Independent\n",
      "I:  [-2. -1. -2.]\n",
      "J:  [ 1.  -0.5  1. ]\n",
      "Prod:  -3.5\n",
      "Norm i:  3.0\n",
      "Norm j:  1.5\n",
      "Independent\n",
      "I:  [-2. -1. -2.]\n",
      "J:  [-1.   0.5 -1. ]\n",
      "Prod:  3.5\n",
      "Norm i:  3.0\n",
      "Norm j:  1.5\n",
      "Independent\n",
      "I:  [-1.   0.5 -1. ]\n",
      "J:  [ 1.  -0.5  1. ]\n",
      "Prod:  -2.25\n",
      "Norm i:  1.5\n",
      "Norm j:  1.5\n",
      "Independent\n",
      "I:  [-1.   0.5 -1. ]\n",
      "J:  [-2. -1. -2.]\n",
      "Prod:  3.5\n",
      "Norm i:  1.5\n",
      "Norm j:  3.0\n",
      "Independent\n"
     ]
    }
   ],
   "source": [
    "def lDpendence(matrix):\n",
    "    if int(np.linalg.det(matrix)) == 0:     ## if the only solution is 0 then\n",
    "        print(\"The matrix is independent\")\n",
    "    else:\n",
    "        print(\"The matrix is dependent\")    ## if the solution is any non-zero then\n",
    "\n",
    "lDpendence(A_mat)\n",
    "\n",
    "\n",
    "\n",
    "def checking(matrix):\n",
    "    print(\"\\n\\nThe mathematical proof\")\n",
    "    for i in range(matrix.shape[0]):\n",
    "        for j in range(matrix.shape[0]):\n",
    "            if i != j:\n",
    "                inner_product = np.inner(\n",
    "                    matrix[:,i],\n",
    "                    matrix[:,j]\n",
    "                )\n",
    "                norm_i = np.linalg.norm(matrix[:,i])\n",
    "                norm_j = np.linalg.norm(matrix[:,j])\n",
    "\n",
    "                print('I: ', matrix[:,i])\n",
    "                print('J: ', matrix[:,j])\n",
    "                print('Prod: ', inner_product)\n",
    "                print('Norm i: ', norm_i)\n",
    "                print('Norm j: ', norm_j)\n",
    "                if np.abs(inner_product - norm_j * norm_i) < 1E-5:\n",
    "                    print('Dependent')\n",
    "                else:\n",
    "                    print('Independent')\n",
    "\n",
    "checking(A_mat)"
   ]
  },
  {
   "cell_type": "markdown",
   "metadata": {},
   "source": [
    "###### Identify whether the two vectors A and B are orthogonal using the cosine similarity formula. You must provide the following in your solution:\n",
    "\n",
    "<ol>\n",
    "<li>The inner product of A and B</li>\n",
    "<li>The norm of A;</li>\n",
    "<li>The norm of B; and</li>\n",
    "<li>The angle between A and B represented by θ</li>\n",
    "</ol>"
   ]
  },
  {
   "cell_type": "markdown",
   "metadata": {},
   "source": [
    "$$ A =\n",
    "\\begin{matrix}\n",
    "[13,20]\n",
    "\\end{matrix},\n",
    "B =\n",
    "\\begin{matrix}\n",
    "[-2,17]\n",
    "\\end{matrix}\n",
    "$$"
   ]
  },
  {
   "cell_type": "code",
   "execution_count": 5,
   "metadata": {},
   "outputs": [],
   "source": [
    "A_vect = np.array([13,20])\n",
    "B_vect = np.array([-2,17])"
   ]
  },
  {
   "cell_type": "code",
   "execution_count": 6,
   "metadata": {},
   "outputs": [
    {
     "data": {
      "text/plain": [
       "314"
      ]
     },
     "execution_count": 6,
     "metadata": {},
     "output_type": "execute_result"
    }
   ],
   "source": [
    "A_vect @ B_vect  ## Inner product of two vectors"
   ]
  },
  {
   "cell_type": "code",
   "execution_count": 7,
   "metadata": {},
   "outputs": [
    {
     "name": "stdout",
     "output_type": "stream",
     "text": [
      "1. The inner product of A and B is 314\n",
      "2. The norm of A is 23.85\n",
      "3. The norm of B is 17.12\n",
      "4. The angle between A and B is 69.35\n"
     ]
    }
   ],
   "source": [
    "def cos_similarity(A,B):\n",
    "    num = A @ np.transpose(B)\n",
    "    norma = np.linalg.norm(A)\n",
    "    normb = np.linalg.norm(B)\n",
    "    sim = num/ (norma*normb)\n",
    "    theta = np.arccos(sim)\n",
    "    \n",
    "    print(f\"1. The inner product of A and B is {num}\")\n",
    "    print(f\"2. The norm of A is {round(norma,2)}\")\n",
    "    print(f\"3. The norm of B is {round(normb,2)}\")\n",
    "    print(f\"4. The angle between A and B is {round(theta*100,2)}\")\n",
    "\n",
    "cos_similarity(A_vect,B_vect)"
   ]
  }
 ],
 "metadata": {
  "kernelspec": {
   "display_name": "Python 3.9.12 ('base')",
   "language": "python",
   "name": "python3"
  },
  "language_info": {
   "codemirror_mode": {
    "name": "ipython",
    "version": 3
   },
   "file_extension": ".py",
   "mimetype": "text/x-python",
   "name": "python",
   "nbconvert_exporter": "python",
   "pygments_lexer": "ipython3",
   "version": "3.9.12"
  },
  "orig_nbformat": 4,
  "vscode": {
   "interpreter": {
    "hash": "f28f51b819213f93b610c120b8c68e9f39a02ecaacc6262c7bf377e51dc8effa"
   }
  }
 },
 "nbformat": 4,
 "nbformat_minor": 2
}
